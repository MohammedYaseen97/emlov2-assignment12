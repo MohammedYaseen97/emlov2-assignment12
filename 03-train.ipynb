{
 "cells": [
  {
   "cell_type": "markdown",
   "id": "a6993ef9-52b6-478e-84c3-f11b3130696a",
   "metadata": {},
   "source": [
    "# 03 - Train and Deploy"
   ]
  },
  {
   "cell_type": "code",
   "execution_count": 2,
   "id": "08b19d9f-b20a-4db5-b685-e60bb9251cec",
   "metadata": {
    "tags": []
   },
   "outputs": [
    {
     "name": "stdout",
     "output_type": "stream",
     "text": [
      "account: 523843493491\n",
      "bucket: sagemaker-us-west-2-523843493491\n",
      "region: us-west-2\n",
      "role: arn:aws:iam::523843493491:role/service-role/AmazonSageMaker-ExecutionRole-20220211T001925\n"
     ]
    }
   ],
   "source": [
    "import boto3\n",
    "import sagemaker\n",
    "import time\n",
    "from time import strftime\n",
    "\n",
    "boto_session = boto3.Session()\n",
    "sagemaker_session = sagemaker.Session(boto_session=boto_session)\n",
    "sm_client = boto3.client(\"sagemaker\")\n",
    "region = boto_session.region_name\n",
    "bucket = sagemaker_session.default_bucket()\n",
    "role = sagemaker.get_execution_role()\n",
    "account = sagemaker_session.boto_session.client(\"sts\").get_caller_identity()[\"Account\"]\n",
    "\n",
    "prefix = 'sagemaker-intel-dvc'\n",
    "\n",
    "print(f\"account: {account}\")\n",
    "print(f\"bucket: {bucket}\")\n",
    "print(f\"region: {region}\")\n",
    "print(f\"role: {role}\")"
   ]
  },
  {
   "cell_type": "code",
   "execution_count": 3,
   "id": "f7293482-36a0-4eb2-8a8d-74cc2cf72d03",
   "metadata": {
    "tags": []
   },
   "outputs": [],
   "source": [
    "from sagemaker.pytorch import PyTorch\n",
    "from sagemaker import get_execution_role\n",
    "from sagemaker.debugger import TensorBoardOutputConfig"
   ]
  },
  {
   "cell_type": "markdown",
   "id": "35c5d251-1cee-4ecc-b498-e2a5088ef0f7",
   "metadata": {},
   "source": [
    "Commit Hash: `9915322bdef503068b5ef332506cf34cb32901f7`"
   ]
  },
  {
   "cell_type": "code",
   "execution_count": 4,
   "id": "6827a0f4-9d89-4c35-b34d-ac42ac1fc54e",
   "metadata": {
    "tags": []
   },
   "outputs": [],
   "source": [
    "dvc_repo_url = \"codecommit::us-west-2://sagemaker-intel\"\n",
    "dvc_branch = \"processed-dataset\""
   ]
  },
  {
   "cell_type": "code",
   "execution_count": 5,
   "id": "0fe13f8b-efd2-466f-a39d-2bb9bcd21b23",
   "metadata": {
    "tags": []
   },
   "outputs": [],
   "source": [
    "tensorboard_output_config = TensorBoardOutputConfig(\n",
    "    s3_output_path=f's3://{bucket}/sagemaker-intel-logs',\n",
    "    container_local_output_path='/opt/ml/output/tensorboard'\n",
    ")"
   ]
  },
  {
   "cell_type": "code",
   "execution_count": 6,
   "id": "f76556a8-16cf-498c-a369-356c33d202d3",
   "metadata": {
    "tags": []
   },
   "outputs": [],
   "source": [
    "pt_estimator = PyTorch(\n",
    "    base_job_name=\"training-intel-dataset\",\n",
    "    source_dir=\"utils\",\n",
    "    entry_point=\"train.py\",\n",
    "    role=get_execution_role(),\n",
    "    py_version=\"py38\",\n",
    "    framework_version=\"1.12\",\n",
    "    image_uri='523843493491.dkr.ecr.us-west-2.amazonaws.com/emlov2-private-repo-yaseen:latest',\n",
    "    instance_count=1,\n",
    "    # instance_type=\"ml.m5.large\",\n",
    "    instance_type=\"ml.g4dn.xlarge\",\n",
    "    tensorboard_output_config=tensorboard_output_config,\n",
    "    use_spot_instances=True,\n",
    "    max_wait=1800,\n",
    "    max_run=1500,\n",
    "    environment={\n",
    "        \"DVC_REPO_URL\": dvc_repo_url,\n",
    "        \"DVC_BRANCH\": dvc_branch,\n",
    "        \"GIT_USER\": \"Mohammed Yaseen\",\n",
    "        \"GIT_EMAIL\": \"47.yaseen@gmail.com\"\n",
    "    }\n",
    ")"
   ]
  },
  {
   "cell_type": "code",
   "execution_count": 9,
   "id": "d3590c72-8b46-403c-98c1-b47931e1e0d2",
   "metadata": {
    "tags": []
   },
   "outputs": [
    {
     "name": "stderr",
     "output_type": "stream",
     "text": [
      "INFO:sagemaker:Creating training-job with name: training-intel-dataset-2023-02-12-15-27-11-011\n"
     ]
    },
    {
     "name": "stdout",
     "output_type": "stream",
     "text": [
      "2023-02-12 15:27:11 Starting - Starting the training job...\n",
      "2023-02-12 15:27:28 Starting - Preparing the instances for training.........\n",
      "2023-02-12 15:29:00 Downloading - Downloading input data...\n",
      "2023-02-12 15:29:21 Training - Downloading the training image....................\u001b[34mbash: cannot set terminal process group (-1): Inappropriate ioctl for device\u001b[0m\n",
      "\u001b[34mbash: no job control in this shell\u001b[0m\n",
      "\u001b[34m2023-02-12 15:32:53,829 sagemaker-training-toolkit INFO     Imported framework sagemaker_pytorch_container.training\u001b[0m\n",
      "\u001b[34m2023-02-12 15:32:53,850 sagemaker-training-toolkit INFO     No Neurons detected (normal if no neurons installed)\u001b[0m\n",
      "\u001b[34m2023-02-12 15:32:53,861 sagemaker_pytorch_container.training INFO     Block until all host DNS lookups succeed.\u001b[0m\n",
      "\u001b[34m2023-02-12 15:32:53,865 sagemaker_pytorch_container.training INFO     Invoking user training script.\u001b[0m\n",
      "\u001b[34m2023-02-12 15:32:54,039 sagemaker-training-toolkit INFO     No Neurons detected (normal if no neurons installed)\u001b[0m\n",
      "\u001b[34m2023-02-12 15:32:54,074 sagemaker-training-toolkit INFO     No Neurons detected (normal if no neurons installed)\u001b[0m\n",
      "\u001b[34m2023-02-12 15:32:54,107 sagemaker-training-toolkit INFO     No Neurons detected (normal if no neurons installed)\u001b[0m\n",
      "\u001b[34m2023-02-12 15:32:54,119 sagemaker-training-toolkit INFO     Invoking user script\u001b[0m\n",
      "\u001b[34mTraining Env:\u001b[0m\n",
      "\u001b[34m{\n",
      "    \"additional_framework_parameters\": {},\n",
      "    \"channel_input_dirs\": {},\n",
      "    \"current_host\": \"algo-1\",\n",
      "    \"current_instance_group\": \"homogeneousCluster\",\n",
      "    \"current_instance_group_hosts\": [\n",
      "        \"algo-1\"\n",
      "    ],\n",
      "    \"current_instance_type\": \"ml.g4dn.xlarge\",\n",
      "    \"distribution_hosts\": [],\n",
      "    \"distribution_instance_groups\": [],\n",
      "    \"framework_module\": \"sagemaker_pytorch_container.training:main\",\n",
      "    \"hosts\": [\n",
      "        \"algo-1\"\n",
      "    ],\n",
      "    \"hyperparameters\": {},\n",
      "    \"input_config_dir\": \"/opt/ml/input/config\",\n",
      "    \"input_data_config\": {},\n",
      "    \"input_dir\": \"/opt/ml/input\",\n",
      "    \"instance_groups\": [\n",
      "        \"homogeneousCluster\"\n",
      "    ],\n",
      "    \"instance_groups_dict\": {\n",
      "        \"homogeneousCluster\": {\n",
      "            \"instance_group_name\": \"homogeneousCluster\",\n",
      "            \"instance_type\": \"ml.g4dn.xlarge\",\n",
      "            \"hosts\": [\n",
      "                \"algo-1\"\n",
      "            ]\n",
      "        }\n",
      "    },\n",
      "    \"is_hetero\": false,\n",
      "    \"is_master\": true,\n",
      "    \"is_modelparallel_enabled\": null,\n",
      "    \"is_smddpmprun_installed\": true,\n",
      "    \"job_name\": \"training-intel-dataset-2023-02-12-15-27-11-011\",\n",
      "    \"log_level\": 20,\n",
      "    \"master_hostname\": \"algo-1\",\n",
      "    \"model_dir\": \"/opt/ml/model\",\n",
      "    \"module_dir\": \"s3://sagemaker-us-west-2-523843493491/training-intel-dataset-2023-02-12-15-27-11-011/source/sourcedir.tar.gz\",\n",
      "    \"module_name\": \"train\",\n",
      "    \"network_interface_name\": \"eth0\",\n",
      "    \"num_cpus\": 4,\n",
      "    \"num_gpus\": 1,\n",
      "    \"num_neurons\": 0,\n",
      "    \"output_data_dir\": \"/opt/ml/output/data\",\n",
      "    \"output_dir\": \"/opt/ml/output\",\n",
      "    \"output_intermediate_dir\": \"/opt/ml/output/intermediate\",\n",
      "    \"resource_config\": {\n",
      "        \"current_host\": \"algo-1\",\n",
      "        \"current_instance_type\": \"ml.g4dn.xlarge\",\n",
      "        \"current_group_name\": \"homogeneousCluster\",\n",
      "        \"hosts\": [\n",
      "            \"algo-1\"\n",
      "        ],\n",
      "        \"instance_groups\": [\n",
      "            {\n",
      "                \"instance_group_name\": \"homogeneousCluster\",\n",
      "                \"instance_type\": \"ml.g4dn.xlarge\",\n",
      "                \"hosts\": [\n",
      "                    \"algo-1\"\n",
      "                ]\n",
      "            }\n",
      "        ],\n",
      "        \"network_interface_name\": \"eth0\"\n",
      "    },\n",
      "    \"user_entry_point\": \"train.py\"\u001b[0m\n",
      "\u001b[34m}\u001b[0m\n",
      "\u001b[34mEnvironment variables:\u001b[0m\n",
      "\u001b[34mSM_HOSTS=[\"algo-1\"]\u001b[0m\n",
      "\u001b[34mSM_NETWORK_INTERFACE_NAME=eth0\u001b[0m\n",
      "\u001b[34mSM_HPS={}\u001b[0m\n",
      "\u001b[34mSM_USER_ENTRY_POINT=train.py\u001b[0m\n",
      "\u001b[34mSM_FRAMEWORK_PARAMS={}\u001b[0m\n",
      "\u001b[34mSM_RESOURCE_CONFIG={\"current_group_name\":\"homogeneousCluster\",\"current_host\":\"algo-1\",\"current_instance_type\":\"ml.g4dn.xlarge\",\"hosts\":[\"algo-1\"],\"instance_groups\":[{\"hosts\":[\"algo-1\"],\"instance_group_name\":\"homogeneousCluster\",\"instance_type\":\"ml.g4dn.xlarge\"}],\"network_interface_name\":\"eth0\"}\u001b[0m\n",
      "\u001b[34mSM_INPUT_DATA_CONFIG={}\u001b[0m\n",
      "\u001b[34mSM_OUTPUT_DATA_DIR=/opt/ml/output/data\u001b[0m\n",
      "\u001b[34mSM_CHANNELS=[]\u001b[0m\n",
      "\u001b[34mSM_CURRENT_HOST=algo-1\u001b[0m\n",
      "\u001b[34mSM_CURRENT_INSTANCE_TYPE=ml.g4dn.xlarge\u001b[0m\n",
      "\u001b[34mSM_CURRENT_INSTANCE_GROUP=homogeneousCluster\u001b[0m\n",
      "\u001b[34mSM_CURRENT_INSTANCE_GROUP_HOSTS=[\"algo-1\"]\u001b[0m\n",
      "\u001b[34mSM_INSTANCE_GROUPS=[\"homogeneousCluster\"]\u001b[0m\n",
      "\u001b[34mSM_INSTANCE_GROUPS_DICT={\"homogeneousCluster\":{\"hosts\":[\"algo-1\"],\"instance_group_name\":\"homogeneousCluster\",\"instance_type\":\"ml.g4dn.xlarge\"}}\u001b[0m\n",
      "\u001b[34mSM_DISTRIBUTION_INSTANCE_GROUPS=[]\u001b[0m\n",
      "\u001b[34mSM_IS_HETERO=false\u001b[0m\n",
      "\u001b[34mSM_MODULE_NAME=train\u001b[0m\n",
      "\u001b[34mSM_LOG_LEVEL=20\u001b[0m\n",
      "\u001b[34mSM_FRAMEWORK_MODULE=sagemaker_pytorch_container.training:main\u001b[0m\n",
      "\u001b[34mSM_INPUT_DIR=/opt/ml/input\u001b[0m\n",
      "\u001b[34mSM_INPUT_CONFIG_DIR=/opt/ml/input/config\u001b[0m\n",
      "\u001b[34mSM_OUTPUT_DIR=/opt/ml/output\u001b[0m\n",
      "\u001b[34mSM_NUM_CPUS=4\u001b[0m\n",
      "\u001b[34mSM_NUM_GPUS=1\u001b[0m\n",
      "\u001b[34mSM_NUM_NEURONS=0\u001b[0m\n",
      "\u001b[34mSM_MODEL_DIR=/opt/ml/model\u001b[0m\n",
      "\u001b[34mSM_MODULE_DIR=s3://sagemaker-us-west-2-523843493491/training-intel-dataset-2023-02-12-15-27-11-011/source/sourcedir.tar.gz\u001b[0m\n",
      "\u001b[34mSM_TRAINING_ENV={\"additional_framework_parameters\":{},\"channel_input_dirs\":{},\"current_host\":\"algo-1\",\"current_instance_group\":\"homogeneousCluster\",\"current_instance_group_hosts\":[\"algo-1\"],\"current_instance_type\":\"ml.g4dn.xlarge\",\"distribution_hosts\":[],\"distribution_instance_groups\":[],\"framework_module\":\"sagemaker_pytorch_container.training:main\",\"hosts\":[\"algo-1\"],\"hyperparameters\":{},\"input_config_dir\":\"/opt/ml/input/config\",\"input_data_config\":{},\"input_dir\":\"/opt/ml/input\",\"instance_groups\":[\"homogeneousCluster\"],\"instance_groups_dict\":{\"homogeneousCluster\":{\"hosts\":[\"algo-1\"],\"instance_group_name\":\"homogeneousCluster\",\"instance_type\":\"ml.g4dn.xlarge\"}},\"is_hetero\":false,\"is_master\":true,\"is_modelparallel_enabled\":null,\"is_smddpmprun_installed\":true,\"job_name\":\"training-intel-dataset-2023-02-12-15-27-11-011\",\"log_level\":20,\"master_hostname\":\"algo-1\",\"model_dir\":\"/opt/ml/model\",\"module_dir\":\"s3://sagemaker-us-west-2-523843493491/training-intel-dataset-2023-02-12-15-27-11-011/source/sourcedir.tar.gz\",\"module_name\":\"train\",\"network_interface_name\":\"eth0\",\"num_cpus\":4,\"num_gpus\":1,\"num_neurons\":0,\"output_data_dir\":\"/opt/ml/output/data\",\"output_dir\":\"/opt/ml/output\",\"output_intermediate_dir\":\"/opt/ml/output/intermediate\",\"resource_config\":{\"current_group_name\":\"homogeneousCluster\",\"current_host\":\"algo-1\",\"current_instance_type\":\"ml.g4dn.xlarge\",\"hosts\":[\"algo-1\"],\"instance_groups\":[{\"hosts\":[\"algo-1\"],\"instance_group_name\":\"homogeneousCluster\",\"instance_type\":\"ml.g4dn.xlarge\"}],\"network_interface_name\":\"eth0\"},\"user_entry_point\":\"train.py\"}\u001b[0m\n",
      "\u001b[34mSM_USER_ARGS=[]\u001b[0m\n",
      "\u001b[34mSM_OUTPUT_INTERMEDIATE_DIR=/opt/ml/output/intermediate\u001b[0m\n",
      "\u001b[34mPYTHONPATH=/opt/ml/code:/opt/conda/bin:/opt/conda/lib/python38.zip:/opt/conda/lib/python3.8:/opt/conda/lib/python3.8/lib-dynload:/opt/conda/lib/python3.8/site-packages:/opt/conda/lib/python3.8/site-packages/smdebug-1.0.24b20230106-py3.8.egg:/opt/conda/lib/python3.8/site-packages/pyinstrument-3.4.2-py3.8.egg:/opt/conda/lib/python3.8/site-packages/pyinstrument_cext-0.2.4-py3.8-linux-x86_64.egg:/opt/conda/lib/python3.8/site-packages/flash_attn-0.1-py3.8-linux-x86_64.egg:/opt/conda/lib/python3.8/site-packages/einops-0.6.0-py3.8.egg\u001b[0m\n",
      "\u001b[34mInvoking script with the following command:\u001b[0m\n",
      "\u001b[34m/opt/conda/bin/python3.8 train.py\u001b[0m\n",
      "\u001b[34m2023-02-12 15:32:56,693 sagemaker-training-toolkit INFO     Exceptions not imported for SageMaker TF as Tensorflow is not installed.\u001b[0m\n",
      "\u001b[34m:: Configure git to pull authenticated from CodeCommit\u001b[0m\n",
      "\u001b[34m:: Cloning repo: codecommit::us-west-2://sagemaker-intel, git branch: processed-dataset\u001b[0m\n",
      "\u001b[34mCloning into '/opt/ml/sagemaker-intel'...\u001b[0m\n",
      "\n",
      "2023-02-12 15:32:47 Training - Training image download completed. Training in progress.\u001b[34mremote:\u001b[0m\n",
      "\u001b[34mremote: Counting objects: 0\u001b[0m\n",
      "\u001b[34mremote: Counting objects: 15\u001b[0m\n",
      "\u001b[34mremote: Counting objects: 15#015remote: Counting objects: 15, done.\u001b[0m\n",
      "\u001b[34m:: Running dvc pull command\u001b[0m\n",
      "\u001b[34m:: Pull from DVC\u001b[0m\n",
      "\u001b[34mA       dataset/\u001b[0m\n",
      "\u001b[34m1 file added and 17016 files fetched\u001b[0m\n",
      "\u001b[34m:: Classnames:  ['buildings', 'forest', 'glacier', 'mountain', 'sea', 'street']\u001b[0m\n",
      "\u001b[34mDownloading: \"https://download.pytorch.org/models/resnet18-5c106cde.pth\" to /root/.cache/torch/hub/checkpoints/resnet18-5c106cde.pth\u001b[0m\n",
      "\u001b[34m:: Training ...\u001b[0m\n",
      "\u001b[34mGPU available: True (cuda), used: True\u001b[0m\n",
      "\u001b[34mTPU available: False, using: 0 TPU cores\u001b[0m\n",
      "\u001b[34mIPU available: False, using: 0 IPUs\u001b[0m\n",
      "\u001b[34mHPU available: False, using: 0 HPUs\u001b[0m\n",
      "\u001b[34mMissing logger folder: /opt/ml/output/tensorboard/training-intel-dataset-2023-02-12-15-27-11-011/lightning_logs\u001b[0m\n",
      "\u001b[34mLOCAL_RANK: 0 - CUDA_VISIBLE_DEVICES: [0]\u001b[0m\n",
      "\u001b[34m| Name  | Type   | Params\u001b[0m\n",
      "\u001b[34m---------------------------------\u001b[0m\n",
      "\u001b[34m0 | model | ResNet | 11.2 M\u001b[0m\n",
      "\u001b[34m---------------------------------\u001b[0m\n",
      "\u001b[34m11.2 M    Trainable params\u001b[0m\n",
      "\u001b[34m0         Non-trainable params\u001b[0m\n",
      "\u001b[34m11.2 M    Total params\u001b[0m\n",
      "\u001b[34m44.718    Total estimated model params size (MB)\u001b[0m\n",
      "\u001b[34mSanity Checking: 0it [00:00, ?it/s]\u001b[0m\n",
      "\u001b[34m[2023-02-12 15:36:57.825 algo-1:47 INFO utils.py:28] RULE_JOB_STOP_SIGNAL_FILENAME: None\u001b[0m\n",
      "\u001b[34m/opt/conda/lib/python3.8/site-packages/smdebug-1.0.24b20230106-py3.8.egg/smdebug/profiler/system_metrics_reader.py:78: SyntaxWarning: \"is not\" with a literal. Did you mean \"!=\"?\u001b[0m\n",
      "\u001b[34m/opt/conda/lib/python3.8/site-packages/smdebug-1.0.24b20230106-py3.8.egg/smdebug/profiler/system_metrics_reader.py:78: SyntaxWarning: \"is not\" with a literal. Did you mean \"!=\"?\u001b[0m\n",
      "\u001b[34m[2023-02-12 15:36:58.320 algo-1:47 INFO profiler_config_parser.py:111] User has disabled profiler.\u001b[0m\n",
      "\u001b[34m[2023-02-12 15:36:58.321 algo-1:47 INFO json_config.py:92] Creating hook from json_config at /opt/ml/input/config/debughookconfig.json.\u001b[0m\n",
      "\u001b[34m[2023-02-12 15:36:58.322 algo-1:47 INFO hook.py:259] Saving to /opt/ml/output/tensors\u001b[0m\n",
      "\u001b[34m[2023-02-12 15:36:58.322 algo-1:47 INFO state_store.py:77] The checkpoint config file /opt/ml/input/config/checkpointconfig.json does not exist.\u001b[0m\n",
      "\u001b[34mSanity Checking:   0%|          | 0/2 [00:00<?, ?it/s]\u001b[0m\n",
      "\u001b[34mSanity Checking DataLoader 0:   0%|          | 0/2 [00:00<?, ?it/s]\u001b[0m\n",
      "\u001b[34mSanity Checking DataLoader 0:  50%|█████     | 1/2 [00:01<00:01,  1.83s/it]\u001b[0m\n",
      "\u001b[34mSanity Checking DataLoader 0: 100%|██████████| 2/2 [00:02<00:00,  1.04s/it]\u001b[0m\n",
      "\u001b[34mTraining: 0it [00:00, ?it/s]\u001b[0m\n",
      "\u001b[34mTraining:   0%|          | 0/110 [00:00<?, ?it/s]\u001b[0m\n",
      "\u001b[34mEpoch 0:   0%|          | 0/110 [00:00<?, ?it/s]\u001b[0m\n",
      "\u001b[34mEpoch 0:   1%|          | 1/110 [00:02<04:33,  2.51s/it]\u001b[0m\n",
      "\u001b[34mEpoch 0:   1%|          | 1/110 [00:02<05:11,  2.86s/it, loss=1.99, v_num=0]\u001b[0m\n",
      "\u001b[34mEpoch 0:   2%|▏         | 2/110 [00:02<02:40,  1.48s/it, loss=1.99, v_num=0]\u001b[0m\n",
      "\u001b[34mEpoch 0:   2%|▏         | 2/110 [00:03<03:11,  1.78s/it, loss=1.91, v_num=0]\u001b[0m\n",
      "\u001b[34mEpoch 0:   3%|▎         | 3/110 [00:03<02:10,  1.22s/it, loss=1.91, v_num=0]\u001b[0m\n",
      "\u001b[34mEpoch 0:   3%|▎         | 3/110 [00:04<02:31,  1.41s/it, loss=1.74, v_num=0]\u001b[0m\n",
      "\u001b[34mEpoch 0:   4%|▎         | 4/110 [00:04<01:54,  1.08s/it, loss=1.74, v_num=0]\u001b[0m\n",
      "\u001b[34mEpoch 0:   4%|▎         | 4/110 [00:04<02:10,  1.23s/it, loss=1.5, v_num=0]\u001b[0m\n",
      "\u001b[34mEpoch 0:   5%|▍         | 5/110 [00:05<01:45,  1.00s/it, loss=1.5, v_num=0]\u001b[0m\n",
      "\u001b[34mEpoch 0:   5%|▍         | 5/110 [00:05<01:57,  1.12s/it, loss=1.37, v_num=0]\u001b[0m\n",
      "\u001b[34mEpoch 0:   5%|▌         | 6/110 [00:05<01:38,  1.05it/s, loss=1.37, v_num=0]\u001b[0m\n",
      "\u001b[34mEpoch 0:   5%|▌         | 6/110 [00:06<01:48,  1.05s/it, loss=1.25, v_num=0]\u001b[0m\n",
      "\u001b[34mEpoch 0:   6%|▋         | 7/110 [00:06<01:33,  1.10it/s, loss=1.25, v_num=0]\u001b[0m\n",
      "\u001b[34mEpoch 0:   6%|▋         | 7/110 [00:06<01:42,  1.01it/s, loss=1.17, v_num=0]\u001b[0m\n",
      "\u001b[34mEpoch 0:   7%|▋         | 8/110 [00:07<01:29,  1.14it/s, loss=1.17, v_num=0]\u001b[0m\n",
      "\u001b[34mEpoch 0:   7%|▋         | 8/110 [00:07<01:37,  1.05it/s, loss=1.08, v_num=0]\u001b[0m\n",
      "\u001b[34mEpoch 0:   8%|▊         | 9/110 [00:07<01:26,  1.17it/s, loss=1.08, v_num=0]\u001b[0m\n",
      "\u001b[34mEpoch 0:   8%|▊         | 9/110 [00:08<01:33,  1.09it/s, loss=1.03, v_num=0]\u001b[0m\n",
      "\u001b[34mEpoch 0:   9%|▉         | 10/110 [00:08<01:23,  1.20it/s, loss=1.03, v_num=0]\u001b[0m\n",
      "\u001b[34mEpoch 0:   9%|▉         | 10/110 [00:08<01:29,  1.12it/s, loss=0.972, v_num=0]\u001b[0m\n",
      "\u001b[34mEpoch 0:  10%|█         | 11/110 [00:09<01:21,  1.22it/s, loss=0.972, v_num=0]\u001b[0m\n",
      "\u001b[34mEpoch 0:  10%|█         | 11/110 [00:09<01:26,  1.14it/s, loss=0.924, v_num=0]\u001b[0m\n",
      "\u001b[34mEpoch 0:  11%|█         | 12/110 [00:09<01:19,  1.23it/s, loss=0.924, v_num=0]\u001b[0m\n",
      "\u001b[34mEpoch 0:  11%|█         | 12/110 [00:10<01:24,  1.16it/s, loss=0.925, v_num=0]\u001b[0m\n",
      "\u001b[34mEpoch 0:  12%|█▏        | 13/110 [00:10<01:17,  1.25it/s, loss=0.925, v_num=0]\u001b[0m\n",
      "\u001b[34mEpoch 0:  12%|█▏        | 13/110 [00:10<01:21,  1.18it/s, loss=0.88, v_num=0]\u001b[0m\n",
      "\u001b[34mEpoch 0:  13%|█▎        | 14/110 [00:11<01:15,  1.26it/s, loss=0.88, v_num=0]\u001b[0m\n",
      "\u001b[34mEpoch 0:  13%|█▎        | 14/110 [00:11<01:19,  1.20it/s, loss=0.858, v_num=0]\u001b[0m\n",
      "\u001b[34mEpoch 0:  14%|█▎        | 15/110 [00:11<01:14,  1.28it/s, loss=0.858, v_num=0]\u001b[0m\n",
      "\u001b[34mEpoch 0:  14%|█▎        | 15/110 [00:12<01:18,  1.22it/s, loss=0.83, v_num=0]\u001b[0m\n",
      "\u001b[34mEpoch 0:  15%|█▍        | 16/110 [00:12<01:13,  1.29it/s, loss=0.83, v_num=0]\u001b[0m\n",
      "\u001b[34mEpoch 0:  15%|█▍        | 16/110 [00:13<01:16,  1.23it/s, loss=0.801, v_num=0]\u001b[0m\n",
      "\u001b[34mEpoch 0:  15%|█▌        | 17/110 [00:13<01:11,  1.30it/s, loss=0.801, v_num=0]\u001b[0m\n",
      "\u001b[34mEpoch 0:  15%|█▌        | 17/110 [00:13<01:14,  1.24it/s, loss=0.774, v_num=0]\u001b[0m\n",
      "\u001b[34mEpoch 0:  16%|█▋        | 18/110 [00:13<01:10,  1.31it/s, loss=0.774, v_num=0]\u001b[0m\n",
      "\u001b[34mEpoch 0:  16%|█▋        | 18/110 [00:14<01:13,  1.25it/s, loss=0.757, v_num=0]\u001b[0m\n",
      "\u001b[34mEpoch 0:  17%|█▋        | 19/110 [00:14<01:09,  1.32it/s, loss=0.757, v_num=0]\u001b[0m\n",
      "\u001b[34mEpoch 0:  17%|█▋        | 19/110 [00:15<01:11,  1.26it/s, loss=0.741, v_num=0]\u001b[0m\n",
      "\u001b[34mEpoch 0:  18%|█▊        | 20/110 [00:15<01:08,  1.32it/s, loss=0.741, v_num=0]\u001b[0m\n",
      "\u001b[34mEpoch 0:  18%|█▊        | 20/110 [00:15<01:10,  1.27it/s, loss=0.727, v_num=0]\u001b[0m\n",
      "\u001b[34mEpoch 0:  19%|█▉        | 21/110 [00:15<01:06,  1.33it/s, loss=0.727, v_num=0]\u001b[0m\n",
      "\u001b[34mEpoch 0:  19%|█▉        | 21/110 [00:16<01:09,  1.28it/s, loss=0.651, v_num=0]\u001b[0m\n",
      "\u001b[34mEpoch 0:  20%|██        | 22/110 [00:16<01:05,  1.33it/s, loss=0.651, v_num=0]\u001b[0m\n",
      "\u001b[34mEpoch 0:  20%|██        | 22/110 [00:17<01:08,  1.29it/s, loss=0.593, v_num=0]\u001b[0m\n",
      "\u001b[34mEpoch 0:  21%|██        | 23/110 [00:17<01:04,  1.34it/s, loss=0.593, v_num=0]\u001b[0m\n",
      "\u001b[34mEpoch 0:  21%|██        | 23/110 [00:17<01:07,  1.30it/s, loss=0.539, v_num=0]\u001b[0m\n",
      "\u001b[34mEpoch 0:  22%|██▏       | 24/110 [00:17<01:03,  1.34it/s, loss=0.539, v_num=0]\u001b[0m\n",
      "\u001b[34mEpoch 0:  22%|██▏       | 24/110 [00:18<01:06,  1.30it/s, loss=0.532, v_num=0]\u001b[0m\n",
      "\u001b[34mEpoch 0:  23%|██▎       | 25/110 [00:18<01:02,  1.35it/s, loss=0.532, v_num=0]\u001b[0m\n",
      "\u001b[34mEpoch 0:  23%|██▎       | 25/110 [00:19<01:04,  1.31it/s, loss=0.508, v_num=0]\u001b[0m\n",
      "\u001b[34mEpoch 0:  24%|██▎       | 26/110 [00:19<01:02,  1.35it/s, loss=0.508, v_num=0]\u001b[0m\n",
      "\u001b[34mEpoch 0:  24%|██▎       | 26/110 [00:19<01:03,  1.31it/s, loss=0.494, v_num=0]\u001b[0m\n",
      "\u001b[34mEpoch 0:  25%|██▍       | 27/110 [00:19<01:01,  1.36it/s, loss=0.494, v_num=0]\u001b[0m\n",
      "\u001b[34mEpoch 0:  25%|██▍       | 27/110 [00:20<01:02,  1.32it/s, loss=0.483, v_num=0]\u001b[0m\n",
      "\u001b[34mEpoch 0:  25%|██▌       | 28/110 [00:20<01:00,  1.36it/s, loss=0.483, v_num=0]\u001b[0m\n",
      "\u001b[34mEpoch 0:  25%|██▌       | 28/110 [00:21<01:01,  1.33it/s, loss=0.482, v_num=0]\u001b[0m\n",
      "\u001b[34mEpoch 0:  26%|██▋       | 29/110 [00:21<00:59,  1.37it/s, loss=0.482, v_num=0]\u001b[0m\n",
      "\u001b[34mEpoch 0:  26%|██▋       | 29/110 [00:21<01:00,  1.33it/s, loss=0.476, v_num=0]\u001b[0m\n",
      "\u001b[34mEpoch 0:  27%|██▋       | 30/110 [00:21<00:58,  1.37it/s, loss=0.476, v_num=0]\u001b[0m\n",
      "\u001b[34mEpoch 0:  27%|██▋       | 30/110 [00:22<00:59,  1.34it/s, loss=0.475, v_num=0]\u001b[0m\n",
      "\u001b[34mEpoch 0:  28%|██▊       | 31/110 [00:22<00:57,  1.37it/s, loss=0.475, v_num=0]\u001b[0m\n",
      "\u001b[34mEpoch 0:  28%|██▊       | 31/110 [00:23<00:59,  1.34it/s, loss=0.468, v_num=0]\u001b[0m\n",
      "\u001b[34mEpoch 0:  29%|██▉       | 32/110 [00:23<00:56,  1.38it/s, loss=0.468, v_num=0]\u001b[0m\n",
      "\u001b[34mEpoch 0:  29%|██▉       | 32/110 [00:23<00:58,  1.34it/s, loss=0.439, v_num=0]\u001b[0m\n",
      "\u001b[34mEpoch 0:  30%|███       | 33/110 [00:23<00:55,  1.38it/s, loss=0.439, v_num=0]\u001b[0m\n",
      "\u001b[34mEpoch 0:  30%|███       | 33/110 [00:24<00:57,  1.35it/s, loss=0.44, v_num=0]\u001b[0m\n",
      "\u001b[34mEpoch 0:  31%|███       | 34/110 [00:24<00:54,  1.38it/s, loss=0.44, v_num=0]\u001b[0m\n",
      "\u001b[34mEpoch 0:  31%|███       | 34/110 [00:25<00:56,  1.35it/s, loss=0.423, v_num=0]\u001b[0m\n",
      "\u001b[34mEpoch 0:  32%|███▏      | 35/110 [00:25<00:54,  1.38it/s, loss=0.423, v_num=0]\u001b[0m\n",
      "\u001b[34mEpoch 0:  32%|███▏      | 35/110 [00:25<00:55,  1.35it/s, loss=0.414, v_num=0]\u001b[0m\n",
      "\u001b[34mEpoch 0:  33%|███▎      | 36/110 [00:25<00:53,  1.39it/s, loss=0.414, v_num=0]\u001b[0m\n",
      "\u001b[34mEpoch 0:  33%|███▎      | 36/110 [00:26<00:54,  1.35it/s, loss=0.417, v_num=0]\u001b[0m\n",
      "\u001b[34mEpoch 0:  34%|███▎      | 37/110 [00:26<00:52,  1.39it/s, loss=0.417, v_num=0]\u001b[0m\n",
      "\u001b[34mEpoch 0:  34%|███▎      | 37/110 [00:27<00:53,  1.36it/s, loss=0.418, v_num=0]\u001b[0m\n",
      "\u001b[34mEpoch 0:  35%|███▍      | 38/110 [00:27<00:51,  1.39it/s, loss=0.418, v_num=0]\u001b[0m\n",
      "\u001b[34mEpoch 0:  35%|███▍      | 38/110 [00:27<00:52,  1.36it/s, loss=0.419, v_num=0]\u001b[0m\n",
      "\u001b[34mEpoch 0:  35%|███▌      | 39/110 [00:27<00:50,  1.39it/s, loss=0.419, v_num=0]\u001b[0m\n",
      "\u001b[34mEpoch 0:  35%|███▌      | 39/110 [00:28<00:52,  1.36it/s, loss=0.411, v_num=0]\u001b[0m\n",
      "\u001b[34mEpoch 0:  36%|███▋      | 40/110 [00:28<00:50,  1.40it/s, loss=0.411, v_num=0]\u001b[0m\n",
      "\u001b[34mEpoch 0:  36%|███▋      | 40/110 [00:29<00:51,  1.37it/s, loss=0.403, v_num=0]\u001b[0m\n",
      "\u001b[34mEpoch 0:  37%|███▋      | 41/110 [00:29<00:49,  1.40it/s, loss=0.403, v_num=0]\u001b[0m\n",
      "\u001b[34mEpoch 0:  37%|███▋      | 41/110 [00:29<00:50,  1.37it/s, loss=0.392, v_num=0]\u001b[0m\n",
      "\u001b[34mEpoch 0:  38%|███▊      | 42/110 [00:30<00:48,  1.40it/s, loss=0.392, v_num=0]\u001b[0m\n",
      "\u001b[34mEpoch 0:  38%|███▊      | 42/110 [00:30<00:49,  1.37it/s, loss=0.373, v_num=0]\u001b[0m\n",
      "\u001b[34mEpoch 0:  39%|███▉      | 43/110 [00:30<00:47,  1.40it/s, loss=0.373, v_num=0]\u001b[0m\n",
      "\u001b[34mEpoch 0:  39%|███▉      | 43/110 [00:31<00:48,  1.37it/s, loss=0.37, v_num=0]\u001b[0m\n",
      "\u001b[34mEpoch 0:  40%|████      | 44/110 [00:31<00:47,  1.40it/s, loss=0.37, v_num=0]\u001b[0m\n",
      "\u001b[34mEpoch 0:  40%|████      | 44/110 [00:31<00:47,  1.38it/s, loss=0.354, v_num=0]\u001b[0m\n",
      "\u001b[34mEpoch 0:  41%|████      | 45/110 [00:32<00:46,  1.40it/s, loss=0.354, v_num=0]\u001b[0m\n",
      "\u001b[34mEpoch 0:  41%|████      | 45/110 [00:32<00:47,  1.38it/s, loss=0.354, v_num=0]\u001b[0m\n",
      "\u001b[34mEpoch 0:  42%|████▏     | 46/110 [00:32<00:45,  1.41it/s, loss=0.354, v_num=0]\u001b[0m\n",
      "\u001b[34mEpoch 0:  42%|████▏     | 46/110 [00:33<00:46,  1.38it/s, loss=0.353, v_num=0]\u001b[0m\n",
      "\u001b[34mEpoch 0:  43%|████▎     | 47/110 [00:33<00:44,  1.41it/s, loss=0.353, v_num=0]\u001b[0m\n",
      "\u001b[34mEpoch 0:  43%|████▎     | 47/110 [00:34<00:45,  1.38it/s, loss=0.346, v_num=0]\u001b[0m\n",
      "\u001b[34mEpoch 0:  44%|████▎     | 48/110 [00:34<00:44,  1.41it/s, loss=0.346, v_num=0]\u001b[0m\n",
      "\u001b[34mEpoch 0:  44%|████▎     | 48/110 [00:34<00:44,  1.38it/s, loss=0.341, v_num=0]\u001b[0m\n",
      "\u001b[34mEpoch 0:  45%|████▍     | 49/110 [00:34<00:43,  1.41it/s, loss=0.341, v_num=0]\u001b[0m\n",
      "\u001b[34mEpoch 0:  45%|████▍     | 49/110 [00:35<00:44,  1.39it/s, loss=0.328, v_num=0]\u001b[0m\n",
      "\u001b[34mEpoch 0:  45%|████▌     | 50/110 [00:35<00:42,  1.41it/s, loss=0.328, v_num=0]\u001b[0m\n",
      "\u001b[34mEpoch 0:  45%|████▌     | 50/110 [00:36<00:43,  1.39it/s, loss=0.318, v_num=0]\u001b[0m\n",
      "\u001b[34mEpoch 0:  46%|████▋     | 51/110 [00:36<00:41,  1.41it/s, loss=0.318, v_num=0]\u001b[0m\n",
      "\u001b[34mEpoch 0:  46%|████▋     | 51/110 [00:36<00:42,  1.39it/s, loss=0.32, v_num=0]\u001b[0m\n",
      "\u001b[34mEpoch 0:  47%|████▋     | 52/110 [00:36<00:41,  1.41it/s, loss=0.32, v_num=0]\u001b[0m\n",
      "\u001b[34mEpoch 0:  47%|████▋     | 52/110 [00:37<00:41,  1.39it/s, loss=0.314, v_num=0]\u001b[0m\n",
      "\u001b[34mEpoch 0:  48%|████▊     | 53/110 [00:37<00:40,  1.42it/s, loss=0.314, v_num=0]\u001b[0m\n",
      "\u001b[34mEpoch 0:  48%|████▊     | 53/110 [00:38<00:40,  1.39it/s, loss=0.311, v_num=0]\u001b[0m\n",
      "\u001b[34mEpoch 0:  49%|████▉     | 54/110 [00:38<00:39,  1.42it/s, loss=0.311, v_num=0]\u001b[0m\n",
      "\u001b[34mEpoch 0:  49%|████▉     | 54/110 [00:38<00:40,  1.40it/s, loss=0.318, v_num=0]\u001b[0m\n",
      "\u001b[34mEpoch 0:  50%|█████     | 55/110 [00:38<00:38,  1.42it/s, loss=0.318, v_num=0]\u001b[0m\n",
      "\u001b[34mEpoch 0:  50%|█████     | 55/110 [00:39<00:39,  1.40it/s, loss=0.317, v_num=0]\u001b[0m\n",
      "\u001b[34mValidation: 0it [00:00, ?it/s]\u001b[0m\n",
      "\u001b[34m#033[A\u001b[0m\n",
      "\u001b[34mValidation:   0%|          | 0/55 [00:00<?, ?it/s]\u001b[0m\n",
      "\u001b[34m#033[A\u001b[0m\n",
      "\u001b[34mValidation DataLoader 0:   0%|          | 0/55 [00:00<?, ?it/s]\u001b[0m\n",
      "\u001b[34m#033[A\u001b[0m\n",
      "\u001b[34mValidation DataLoader 0:   2%|▏         | 1/55 [00:00<00:10,  5.33it/s]#033[A\u001b[0m\n",
      "\u001b[34mEpoch 0:  51%|█████     | 56/110 [00:40<00:39,  1.37it/s, loss=0.317, v_num=0]\u001b[0m\n",
      "\u001b[34mValidation DataLoader 0:   4%|▎         | 2/55 [00:00<00:13,  3.90it/s]#033[A\u001b[0m\n",
      "\u001b[34mEpoch 0:  52%|█████▏    | 57/110 [00:41<00:38,  1.39it/s, loss=0.317, v_num=0]\u001b[0m\n",
      "\u001b[34mValidation DataLoader 0:   5%|▌         | 3/55 [00:00<00:14,  3.48it/s]#033[A\u001b[0m\n",
      "\u001b[34mEpoch 0:  53%|█████▎    | 58/110 [00:41<00:37,  1.40it/s, loss=0.317, v_num=0]\u001b[0m\n",
      "\u001b[34mValidation DataLoader 0:   7%|▋         | 4/55 [00:01<00:14,  3.48it/s]#033[A#015Epoch 0:  54%|█████▎    | 59/110 [00:41<00:36,  1.41it/s, loss=0.317, v_num=0]\u001b[0m\n",
      "\u001b[34mValidation DataLoader 0:   9%|▉         | 5/55 [00:01<00:14,  3.48it/s]#033[A\u001b[0m\n",
      "\u001b[34mEpoch 0:  55%|█████▍    | 60/110 [00:42<00:35,  1.43it/s, loss=0.317, v_num=0]\u001b[0m\n",
      "\u001b[34mValidation DataLoader 0:  11%|█         | 6/55 [00:01<00:14,  3.44it/s]#033[A#015Epoch 0:  55%|█████▌    | 61/110 [00:42<00:33,  1.44it/s, loss=0.317, v_num=0]\u001b[0m\n",
      "\u001b[34mValidation DataLoader 0:  13%|█▎        | 7/55 [00:02<00:13,  3.48it/s]#033[A\u001b[0m\n",
      "\u001b[34mEpoch 0:  56%|█████▋    | 62/110 [00:42<00:32,  1.46it/s, loss=0.317, v_num=0]\u001b[0m\n",
      "\u001b[34mValidation DataLoader 0:  15%|█▍        | 8/55 [00:02<00:13,  3.50it/s]#033[A#015Epoch 0:  57%|█████▋    | 63/110 [00:42<00:31,  1.47it/s, loss=0.317, v_num=0]\u001b[0m\n",
      "\u001b[34mValidation DataLoader 0:  16%|█▋        | 9/55 [00:02<00:13,  3.52it/s]#033[A#015Epoch 0:  58%|█████▊    | 64/110 [00:43<00:31,  1.48it/s, loss=0.317, v_num=0]\u001b[0m\n",
      "\u001b[34mValidation DataLoader 0:  18%|█▊        | 10/55 [00:02<00:12,  3.54it/s]#033[A#015Epoch 0:  59%|█████▉    | 65/110 [00:43<00:30,  1.50it/s, loss=0.317, v_num=0]\u001b[0m\n",
      "\u001b[34mValidation DataLoader 0:  20%|██        | 11/55 [00:03<00:12,  3.56it/s]#033[A#015Epoch 0:  60%|██████    | 66/110 [00:43<00:29,  1.51it/s, loss=0.317, v_num=0]\u001b[0m\n",
      "\u001b[34mValidation DataLoader 0:  22%|██▏       | 12/55 [00:03<00:12,  3.57it/s]#033[A#015Epoch 0:  61%|██████    | 67/110 [00:43<00:28,  1.52it/s, loss=0.317, v_num=0]\u001b[0m\n",
      "\u001b[34mValidation DataLoader 0:  24%|██▎       | 13/55 [00:03<00:11,  3.59it/s]#033[A#015Epoch 0:  62%|██████▏   | 68/110 [00:44<00:27,  1.54it/s, loss=0.317, v_num=0]\u001b[0m\n",
      "\u001b[34mValidation DataLoader 0:  25%|██▌       | 14/55 [00:03<00:11,  3.60it/s]#033[A#015Epoch 0:  63%|██████▎   | 69/110 [00:44<00:26,  1.55it/s, loss=0.317, v_num=0]\u001b[0m\n",
      "\u001b[34mValidation DataLoader 0:  27%|██▋       | 15/55 [00:04<00:11,  3.60it/s]#033[A\u001b[0m\n",
      "\u001b[34mEpoch 0:  64%|██████▎   | 70/110 [00:44<00:25,  1.56it/s, loss=0.317, v_num=0]\u001b[0m\n",
      "\u001b[34mValidation DataLoader 0:  29%|██▉       | 16/55 [00:04<00:10,  3.61it/s]#033[A\u001b[0m\n",
      "\u001b[34mEpoch 0:  65%|██████▍   | 71/110 [00:45<00:24,  1.58it/s, loss=0.317, v_num=0]\u001b[0m\n",
      "\u001b[34mValidation DataLoader 0:  31%|███       | 17/55 [00:04<00:10,  3.62it/s]#033[A#015Epoch 0:  65%|██████▌   | 72/110 [00:45<00:23,  1.59it/s, loss=0.317, v_num=0]\u001b[0m\n",
      "\u001b[34mValidation DataLoader 0:  33%|███▎      | 18/55 [00:05<00:10,  3.59it/s]#033[A#015Epoch 0:  66%|██████▋   | 73/110 [00:45<00:23,  1.60it/s, loss=0.317, v_num=0]\u001b[0m\n",
      "\u001b[34mValidation DataLoader 0:  35%|███▍      | 19/55 [00:05<00:09,  3.60it/s]#033[A\u001b[0m\n",
      "\u001b[34mEpoch 0:  67%|██████▋   | 74/110 [00:45<00:22,  1.61it/s, loss=0.317, v_num=0]\u001b[0m\n",
      "\u001b[34mValidation DataLoader 0:  36%|███▋      | 20/55 [00:05<00:09,  3.60it/s]#033[A#015Epoch 0:  68%|██████▊   | 75/110 [00:46<00:21,  1.63it/s, loss=0.317, v_num=0]\u001b[0m\n",
      "\u001b[34mValidation DataLoader 0:  38%|███▊      | 21/55 [00:05<00:09,  3.61it/s]#033[A#015Epoch 0:  69%|██████▉   | 76/110 [00:46<00:20,  1.64it/s, loss=0.317, v_num=0]\u001b[0m\n",
      "\u001b[34mValidation DataLoader 0:  40%|████      | 22/55 [00:06<00:09,  3.60it/s]#033[A#015Epoch 0:  70%|███████   | 77/110 [00:46<00:20,  1.65it/s, loss=0.317, v_num=0]\u001b[0m\n",
      "\u001b[34mValidation DataLoader 0:  42%|████▏     | 23/55 [00:06<00:08,  3.61it/s]#033[A#015Epoch 0:  71%|███████   | 78/110 [00:46<00:19,  1.66it/s, loss=0.317, v_num=0]\u001b[0m\n",
      "\u001b[34mValidation DataLoader 0:  44%|████▎     | 24/55 [00:06<00:08,  3.60it/s]#033[A#015Epoch 0:  72%|███████▏  | 79/110 [00:47<00:18,  1.67it/s, loss=0.317, v_num=0]\u001b[0m\n",
      "\u001b[34mValidation DataLoader 0:  45%|████▌     | 25/55 [00:06<00:08,  3.61it/s]#033[A\u001b[0m\n",
      "\u001b[34mEpoch 0:  73%|███████▎  | 80/110 [00:47<00:17,  1.68it/s, loss=0.317, v_num=0]\u001b[0m\n",
      "\u001b[34mValidation DataLoader 0:  47%|████▋     | 26/55 [00:07<00:08,  3.62it/s]#033[A#015Epoch 0:  74%|███████▎  | 81/110 [00:47<00:17,  1.70it/s, loss=0.317, v_num=0]\u001b[0m\n",
      "\u001b[34mValidation DataLoader 0:  49%|████▉     | 27/55 [00:07<00:07,  3.63it/s]#033[A#015Epoch 0:  75%|███████▍  | 82/110 [00:48<00:16,  1.71it/s, loss=0.317, v_num=0]\u001b[0m\n",
      "\u001b[34mValidation DataLoader 0:  51%|█████     | 28/55 [00:07<00:07,  3.63it/s]#033[A#015Epoch 0:  75%|███████▌  | 83/110 [00:48<00:15,  1.72it/s, loss=0.317, v_num=0]\u001b[0m\n",
      "\u001b[34mValidation DataLoader 0:  53%|█████▎    | 29/55 [00:07<00:07,  3.63it/s]\u001b[0m\n",
      "\u001b[34m#033[A\u001b[0m\n",
      "\u001b[34mEpoch 0:  76%|███████▋  | 84/110 [00:48<00:15,  1.73it/s, loss=0.317, v_num=0]\u001b[0m\n",
      "\u001b[34mValidation DataLoader 0:  55%|█████▍    | 30/55 [00:08<00:06,  3.63it/s]#033[A#015Epoch 0:  77%|███████▋  | 85/110 [00:48<00:14,  1.74it/s, loss=0.317, v_num=0]\u001b[0m\n",
      "\u001b[34mValidation DataLoader 0:  56%|█████▋    | 31/55 [00:08<00:06,  3.63it/s]#033[A\u001b[0m\n",
      "\u001b[34mEpoch 0:  78%|███████▊  | 86/110 [00:49<00:13,  1.75it/s, loss=0.317, v_num=0]\u001b[0m\n",
      "\u001b[34mValidation DataLoader 0:  58%|█████▊    | 32/55 [00:08<00:06,  3.64it/s]#033[A\u001b[0m\n",
      "\u001b[34mEpoch 0:  79%|███████▉  | 87/110 [00:49<00:13,  1.76it/s, loss=0.317, v_num=0]\u001b[0m\n",
      "\u001b[34mValidation DataLoader 0:  60%|██████    | 33/55 [00:09<00:06,  3.65it/s]#033[A\u001b[0m\n",
      "\u001b[34mEpoch 0:  80%|████████  | 88/110 [00:49<00:12,  1.77it/s, loss=0.317, v_num=0]\u001b[0m\n",
      "\u001b[34mValidation DataLoader 0:  62%|██████▏   | 34/55 [00:09<00:05,  3.66it/s]\u001b[0m\n",
      "\u001b[34m#033[A\u001b[0m\n",
      "\u001b[34mEpoch 0:  81%|████████  | 89/110 [00:49<00:11,  1.78it/s, loss=0.317, v_num=0]\u001b[0m\n",
      "\u001b[34mValidation DataLoader 0:  64%|██████▎   | 35/55 [00:09<00:05,  3.66it/s]#033[A#015Epoch 0:  82%|████████▏ | 90/110 [00:50<00:11,  1.79it/s, loss=0.317, v_num=0]\u001b[0m\n",
      "\u001b[34mValidation DataLoader 0:  65%|██████▌   | 36/55 [00:09<00:05,  3.65it/s]#033[A\u001b[0m\n",
      "\u001b[34mEpoch 0:  83%|████████▎ | 91/110 [00:50<00:10,  1.80it/s, loss=0.317, v_num=0]\u001b[0m\n",
      "\u001b[34mValidation DataLoader 0:  67%|██████▋   | 37/55 [00:10<00:04,  3.63it/s]#033[A#015Epoch 0:  84%|████████▎ | 92/110 [00:50<00:09,  1.81it/s, loss=0.317, v_num=0]\u001b[0m\n",
      "\u001b[34mValidation DataLoader 0:  69%|██████▉   | 38/55 [00:10<00:04,  3.62it/s]#033[A#015Epoch 0:  85%|████████▍ | 93/110 [00:51<00:09,  1.82it/s, loss=0.317, v_num=0]\u001b[0m\n",
      "\u001b[34mValidation DataLoader 0:  71%|███████   | 39/55 [00:10<00:04,  3.63it/s]#033[A#015Epoch 0:  85%|████████▌ | 94/110 [00:51<00:08,  1.83it/s, loss=0.317, v_num=0]\u001b[0m\n",
      "\u001b[34mValidation DataLoader 0:  73%|███████▎  | 40/55 [00:11<00:04,  3.61it/s]#033[A#015Epoch 0:  86%|████████▋ | 95/110 [00:51<00:08,  1.84it/s, loss=0.317, v_num=0]\u001b[0m\n",
      "\u001b[34mValidation DataLoader 0:  75%|███████▍  | 41/55 [00:11<00:03,  3.61it/s]#033[A\u001b[0m\n",
      "\u001b[34mEpoch 0:  87%|████████▋ | 96/110 [00:51<00:07,  1.85it/s, loss=0.317, v_num=0]\u001b[0m\n",
      "\u001b[34mValidation DataLoader 0:  76%|███████▋  | 42/55 [00:11<00:03,  3.59it/s]#033[A\u001b[0m\n",
      "\u001b[34mEpoch 0:  88%|████████▊ | 97/110 [00:52<00:07,  1.85it/s, loss=0.317, v_num=0]\u001b[0m\n",
      "\u001b[34mValidation DataLoader 0:  78%|███████▊  | 43/55 [00:11<00:03,  3.59it/s]#033[A\u001b[0m\n",
      "\u001b[34mEpoch 0:  89%|████████▉ | 98/110 [00:52<00:06,  1.86it/s, loss=0.317, v_num=0]\u001b[0m\n",
      "\u001b[34mValidation DataLoader 0:  80%|████████  | 44/55 [00:12<00:03,  3.58it/s]#033[A#015Epoch 0:  90%|█████████ | 99/110 [00:52<00:05,  1.87it/s, loss=0.317, v_num=0]\u001b[0m\n",
      "\u001b[34mValidation DataLoader 0:  82%|████████▏ | 45/55 [00:12<00:02,  3.57it/s]#033[A\u001b[0m\n",
      "\u001b[34mEpoch 0:  91%|█████████ | 100/110 [00:53<00:05,  1.88it/s, loss=0.317, v_num=0]\u001b[0m\n",
      "\u001b[34mValidation DataLoader 0:  84%|████████▎ | 46/55 [00:12<00:02,  3.57it/s]#033[A\u001b[0m\n",
      "\u001b[34mEpoch 0:  92%|█████████▏| 101/110 [00:53<00:04,  1.89it/s, loss=0.317, v_num=0]\u001b[0m\n",
      "\u001b[34mValidation DataLoader 0:  85%|████████▌ | 47/55 [00:13<00:02,  3.56it/s]#033[A\u001b[0m\n",
      "\u001b[34mEpoch 0:  93%|█████████▎| 102/110 [00:53<00:04,  1.90it/s, loss=0.317, v_num=0]\u001b[0m\n",
      "\u001b[34mValidation DataLoader 0:  87%|████████▋ | 48/55 [00:13<00:01,  3.56it/s]#033[A\u001b[0m\n",
      "\u001b[34mEpoch 0:  94%|█████████▎| 103/110 [00:54<00:03,  1.90it/s, loss=0.317, v_num=0]\u001b[0m\n",
      "\u001b[34mValidation DataLoader 0:  89%|████████▉ | 49/55 [00:13<00:01,  3.57it/s]#033[A#015Epoch 0:  95%|█████████▍| 104/110 [00:54<00:03,  1.91it/s, loss=0.317, v_num=0]\u001b[0m\n",
      "\u001b[34mValidation DataLoader 0:  91%|█████████ | 50/55 [00:13<00:01,  3.58it/s]#033[A\u001b[0m\n",
      "\u001b[34mEpoch 0:  95%|█████████▌| 105/110 [00:54<00:02,  1.92it/s, loss=0.317, v_num=0]\u001b[0m\n",
      "\u001b[34mValidation DataLoader 0:  93%|█████████▎| 51/55 [00:14<00:01,  3.58it/s]#033[A\u001b[0m\n",
      "\u001b[34mEpoch 0:  96%|█████████▋| 106/110 [00:54<00:02,  1.93it/s, loss=0.317, v_num=0]\u001b[0m\n",
      "\u001b[34mValidation DataLoader 0:  95%|█████████▍| 52/55 [00:14<00:00,  3.59it/s]#033[A#015Epoch 0:  97%|█████████▋| 107/110 [00:55<00:01,  1.94it/s, loss=0.317, v_num=0]\u001b[0m\n",
      "\u001b[34mValidation DataLoader 0:  96%|█████████▋| 53/55 [00:14<00:00,  3.60it/s]#033[A\u001b[0m\n",
      "\u001b[34mEpoch 0:  98%|█████████▊| 108/110 [00:55<00:01,  1.95it/s, loss=0.317, v_num=0]\u001b[0m\n",
      "\u001b[34mValidation DataLoader 0:  98%|█████████▊| 54/55 [00:14<00:00,  3.61it/s]#033[A\u001b[0m\n",
      "\u001b[34mEpoch 0:  99%|█████████▉| 109/110 [00:55<00:00,  1.96it/s, loss=0.317, v_num=0]\u001b[0m\n",
      "\u001b[34mValidation DataLoader 0: 100%|██████████| 55/55 [00:15<00:00,  3.63it/s]#033[A#015Epoch 0: 100%|██████████| 110/110 [00:55<00:00,  1.97it/s, loss=0.317, v_num=0]\u001b[0m\n",
      "\u001b[34mEpoch 0: 100%|██████████| 110/110 [00:55<00:00,  1.97it/s, loss=0.317, v_num=0, val/loss=0.511, val/acc=0.859]\u001b[0m\n",
      "\u001b[34m#033[A\u001b[0m\n",
      "\u001b[34mEpoch 0: 100%|██████████| 110/110 [00:55<00:00,  1.97it/s, loss=0.317, v_num=0, val/loss=0.511, val/acc=0.859]\u001b[0m\n",
      "\u001b[34mEpoch 0:   0%|          | 0/110 [00:00<?, ?it/s, loss=0.317, v_num=0, val/loss=0.511, val/acc=0.859]\u001b[0m\n",
      "\u001b[34mEpoch 1:   0%|          | 0/110 [00:00<?, ?it/s, loss=0.317, v_num=0, val/loss=0.511, val/acc=0.859]\u001b[0m\n",
      "\u001b[34mEpoch 1:   1%|          | 1/110 [00:01<03:25,  1.88s/it, loss=0.317, v_num=0, val/loss=0.511, val/acc=0.859]\u001b[0m\n",
      "\u001b[34mEpoch 1:   1%|          | 1/110 [00:02<04:26,  2.45s/it, loss=0.308, v_num=0, val/loss=0.511, val/acc=0.859]\u001b[0m\n",
      "\u001b[34mEpoch 1:   2%|▏         | 2/110 [00:02<02:23,  1.32s/it, loss=0.308, v_num=0, val/loss=0.511, val/acc=0.859]\u001b[0m\n",
      "\u001b[34mEpoch 1:   2%|▏         | 2/110 [00:03<02:55,  1.62s/it, loss=0.304, v_num=0, val/loss=0.511, val/acc=0.859]\u001b[0m\n",
      "\u001b[34mEpoch 1:   3%|▎         | 3/110 [00:03<01:58,  1.11s/it, loss=0.304, v_num=0, val/loss=0.511, val/acc=0.859]\u001b[0m\n",
      "\u001b[34mEpoch 1:   3%|▎         | 3/110 [00:03<02:19,  1.31s/it, loss=0.292, v_num=0, val/loss=0.511, val/acc=0.859]\u001b[0m\n",
      "\u001b[34mEpoch 1:   4%|▎         | 4/110 [00:04<01:46,  1.00s/it, loss=0.292, v_num=0, val/loss=0.511, val/acc=0.859]\u001b[0m\n",
      "\u001b[34mEpoch 1:   4%|▎         | 4/110 [00:04<02:02,  1.15s/it, loss=0.289, v_num=0, val/loss=0.511, val/acc=0.859]\u001b[0m\n",
      "\u001b[34mEpoch 1:   5%|▍         | 5/110 [00:04<01:39,  1.06it/s, loss=0.289, v_num=0, val/loss=0.511, val/acc=0.859]\u001b[0m\n",
      "\u001b[34mEpoch 1:   5%|▍         | 5/110 [00:05<01:51,  1.06s/it, loss=0.286, v_num=0, val/loss=0.511, val/acc=0.859]\u001b[0m\n",
      "\u001b[34mEpoch 1:   5%|▌         | 6/110 [00:05<01:33,  1.11it/s, loss=0.286, v_num=0, val/loss=0.511, val/acc=0.859]\u001b[0m\n",
      "\u001b[34mEpoch 1:   5%|▌         | 6/110 [00:06<01:44,  1.00s/it, loss=0.287, v_num=0, val/loss=0.511, val/acc=0.859]\u001b[0m\n",
      "\u001b[34mEpoch 1:   6%|▋         | 7/110 [00:06<01:29,  1.15it/s, loss=0.287, v_num=0, val/loss=0.511, val/acc=0.859]\u001b[0m\n",
      "\u001b[34mEpoch 1:   6%|▋         | 7/110 [00:06<01:38,  1.05it/s, loss=0.281, v_num=0, val/loss=0.511, val/acc=0.859]\u001b[0m\n",
      "\u001b[34mEpoch 1:   7%|▋         | 8/110 [00:06<01:26,  1.18it/s, loss=0.281, v_num=0, val/loss=0.511, val/acc=0.859]\u001b[0m\n",
      "\u001b[34mEpoch 1:   7%|▋         | 8/110 [00:07<01:33,  1.09it/s, loss=0.281, v_num=0, val/loss=0.511, val/acc=0.859]\u001b[0m\n",
      "\u001b[34mEpoch 1:   8%|▊         | 9/110 [00:07<01:23,  1.21it/s, loss=0.281, v_num=0, val/loss=0.511, val/acc=0.859]\u001b[0m\n",
      "\u001b[34mEpoch 1:   8%|▊         | 9/110 [00:08<01:30,  1.12it/s, loss=0.276, v_num=0, val/loss=0.511, val/acc=0.859]\u001b[0m\n",
      "\u001b[34mEpoch 1:   9%|▉         | 10/110 [00:08<01:21,  1.23it/s, loss=0.276, v_num=0, val/loss=0.511, val/acc=0.859]\u001b[0m\n",
      "\u001b[34mEpoch 1:   9%|▉         | 10/110 [00:08<01:27,  1.15it/s, loss=0.269, v_num=0, val/loss=0.511, val/acc=0.859]\u001b[0m\n",
      "\u001b[34mEpoch 1:  10%|█         | 11/110 [00:08<01:19,  1.25it/s, loss=0.269, v_num=0, val/loss=0.511, val/acc=0.859]\u001b[0m\n",
      "\u001b[34mEpoch 1:  10%|█         | 11/110 [00:09<01:24,  1.17it/s, loss=0.259, v_num=0, val/loss=0.511, val/acc=0.859]\u001b[0m\n",
      "\u001b[34mEpoch 1:  11%|█         | 12/110 [00:09<01:17,  1.27it/s, loss=0.259, v_num=0, val/loss=0.511, val/acc=0.859]\u001b[0m\n",
      "\u001b[34mEpoch 1:  11%|█         | 12/110 [00:10<01:22,  1.19it/s, loss=0.251, v_num=0, val/loss=0.511, val/acc=0.859]\u001b[0m\n",
      "\u001b[34mEpoch 1:  12%|█▏        | 13/110 [00:10<01:15,  1.28it/s, loss=0.251, v_num=0, val/loss=0.511, val/acc=0.859]\u001b[0m\n",
      "\u001b[34mEpoch 1:  12%|█▏        | 13/110 [00:10<01:20,  1.21it/s, loss=0.246, v_num=0, val/loss=0.511, val/acc=0.859]\u001b[0m\n",
      "\u001b[34mEpoch 1:  13%|█▎        | 14/110 [00:10<01:14,  1.29it/s, loss=0.246, v_num=0, val/loss=0.511, val/acc=0.859]\u001b[0m\n",
      "\u001b[34mEpoch 1:  13%|█▎        | 14/110 [00:11<01:18,  1.22it/s, loss=0.246, v_num=0, val/loss=0.511, val/acc=0.859]\u001b[0m\n",
      "\u001b[34mEpoch 1:  14%|█▎        | 15/110 [00:11<01:12,  1.30it/s, loss=0.246, v_num=0, val/loss=0.511, val/acc=0.859]\u001b[0m\n",
      "\u001b[34mEpoch 1:  14%|█▎        | 15/110 [00:12<01:16,  1.24it/s, loss=0.244, v_num=0, val/loss=0.511, val/acc=0.859]\u001b[0m\n",
      "\u001b[34mEpoch 1:  15%|█▍        | 16/110 [00:12<01:11,  1.31it/s, loss=0.244, v_num=0, val/loss=0.511, val/acc=0.859]\u001b[0m\n",
      "\u001b[34mEpoch 1:  15%|█▍        | 16/110 [00:12<01:15,  1.25it/s, loss=0.239, v_num=0, val/loss=0.511, val/acc=0.859]\u001b[0m\n",
      "\u001b[34mEpoch 1:  15%|█▌        | 17/110 [00:12<01:10,  1.32it/s, loss=0.239, v_num=0, val/loss=0.511, val/acc=0.859]\u001b[0m\n",
      "\u001b[34mEpoch 1:  15%|█▌        | 17/110 [00:13<01:13,  1.26it/s, loss=0.237, v_num=0, val/loss=0.511, val/acc=0.859]\u001b[0m\n",
      "\u001b[34mEpoch 1:  16%|█▋        | 18/110 [00:13<01:09,  1.33it/s, loss=0.237, v_num=0, val/loss=0.511, val/acc=0.859]\u001b[0m\n",
      "\u001b[34mEpoch 1:  16%|█▋        | 18/110 [00:14<01:12,  1.27it/s, loss=0.233, v_num=0, val/loss=0.511, val/acc=0.859]\u001b[0m\n",
      "\u001b[34mEpoch 1:  17%|█▋        | 19/110 [00:14<01:08,  1.34it/s, loss=0.233, v_num=0, val/loss=0.511, val/acc=0.859]\u001b[0m\n",
      "\u001b[34mEpoch 1:  17%|█▋        | 19/110 [00:14<01:11,  1.28it/s, loss=0.224, v_num=0, val/loss=0.511, val/acc=0.859]\u001b[0m\n",
      "\u001b[34mEpoch 1:  18%|█▊        | 20/110 [00:14<01:07,  1.34it/s, loss=0.224, v_num=0, val/loss=0.511, val/acc=0.859]\u001b[0m\n",
      "\u001b[34mEpoch 1:  18%|█▊        | 20/110 [00:15<01:09,  1.29it/s, loss=0.221, v_num=0, val/loss=0.511, val/acc=0.859]\u001b[0m\n",
      "\u001b[34mEpoch 1:  19%|█▉        | 21/110 [00:15<01:06,  1.35it/s, loss=0.221, v_num=0, val/loss=0.511, val/acc=0.859]\u001b[0m\n",
      "\u001b[34mEpoch 1:  19%|█▉        | 21/110 [00:16<01:08,  1.30it/s, loss=0.223, v_num=0, val/loss=0.511, val/acc=0.859]\u001b[0m\n",
      "\u001b[34mEpoch 1:  20%|██        | 22/110 [00:16<01:05,  1.35it/s, loss=0.223, v_num=0, val/loss=0.511, val/acc=0.859]\u001b[0m\n",
      "\u001b[34mEpoch 1:  20%|██        | 22/110 [00:16<01:07,  1.30it/s, loss=0.218, v_num=0, val/loss=0.511, val/acc=0.859]\u001b[0m\n",
      "\u001b[34mEpoch 1:  21%|██        | 23/110 [00:16<01:04,  1.36it/s, loss=0.218, v_num=0, val/loss=0.511, val/acc=0.859]\u001b[0m\n",
      "\u001b[34mEpoch 1:  21%|██        | 23/110 [00:17<01:06,  1.31it/s, loss=0.211, v_num=0, val/loss=0.511, val/acc=0.859]\u001b[0m\n",
      "\u001b[34mEpoch 1:  22%|██▏       | 24/110 [00:17<01:03,  1.36it/s, loss=0.211, v_num=0, val/loss=0.511, val/acc=0.859]\u001b[0m\n",
      "\u001b[34mEpoch 1:  22%|██▏       | 24/110 [00:18<01:05,  1.32it/s, loss=0.207, v_num=0, val/loss=0.511, val/acc=0.859]\u001b[0m\n",
      "\u001b[34mEpoch 1:  23%|██▎       | 25/110 [00:18<01:02,  1.36it/s, loss=0.207, v_num=0, val/loss=0.511, val/acc=0.859]\u001b[0m\n",
      "\u001b[34mEpoch 1:  23%|██▎       | 25/110 [00:18<01:04,  1.32it/s, loss=0.206, v_num=0, val/loss=0.511, val/acc=0.859]\u001b[0m\n",
      "\u001b[34mEpoch 1:  24%|██▎       | 26/110 [00:19<01:01,  1.37it/s, loss=0.206, v_num=0, val/loss=0.511, val/acc=0.859]\u001b[0m\n",
      "\u001b[34mEpoch 1:  24%|██▎       | 26/110 [00:19<01:03,  1.33it/s, loss=0.206, v_num=0, val/loss=0.511, val/acc=0.859]\u001b[0m\n",
      "\u001b[34mEpoch 1:  25%|██▍       | 27/110 [00:19<01:00,  1.37it/s, loss=0.206, v_num=0, val/loss=0.511, val/acc=0.859]\u001b[0m\n",
      "\u001b[34mEpoch 1:  25%|██▍       | 27/110 [00:20<01:02,  1.33it/s, loss=0.204, v_num=0, val/loss=0.511, val/acc=0.859]\u001b[0m\n",
      "\u001b[34mEpoch 1:  25%|██▌       | 28/110 [00:20<00:59,  1.38it/s, loss=0.204, v_num=0, val/loss=0.511, val/acc=0.859]\u001b[0m\n",
      "\u001b[34mEpoch 1:  25%|██▌       | 28/110 [00:20<01:01,  1.34it/s, loss=0.203, v_num=0, val/loss=0.511, val/acc=0.859]\u001b[0m\n",
      "\u001b[34mEpoch 1:  26%|██▋       | 29/110 [00:21<00:58,  1.38it/s, loss=0.203, v_num=0, val/loss=0.511, val/acc=0.859]\u001b[0m\n",
      "\u001b[34mEpoch 1:  26%|██▋       | 29/110 [00:21<01:00,  1.34it/s, loss=0.201, v_num=0, val/loss=0.511, val/acc=0.859]\u001b[0m\n",
      "\u001b[34mEpoch 1:  27%|██▋       | 30/110 [00:21<00:57,  1.38it/s, loss=0.201, v_num=0, val/loss=0.511, val/acc=0.859]\u001b[0m\n",
      "\u001b[34mEpoch 1:  27%|██▋       | 30/110 [00:22<00:59,  1.34it/s, loss=0.204, v_num=0, val/loss=0.511, val/acc=0.859]\u001b[0m\n",
      "\u001b[34mEpoch 1:  28%|██▊       | 31/110 [00:22<00:57,  1.38it/s, loss=0.204, v_num=0, val/loss=0.511, val/acc=0.859]\u001b[0m\n",
      "\u001b[34mEpoch 1:  28%|██▊       | 31/110 [00:23<00:58,  1.35it/s, loss=0.205, v_num=0, val/loss=0.511, val/acc=0.859]\u001b[0m\n",
      "\u001b[34mEpoch 1:  29%|██▉       | 32/110 [00:23<00:56,  1.38it/s, loss=0.205, v_num=0, val/loss=0.511, val/acc=0.859]\u001b[0m\n",
      "\u001b[34mEpoch 1:  29%|██▉       | 32/110 [00:23<00:57,  1.35it/s, loss=0.207, v_num=0, val/loss=0.511, val/acc=0.859]\u001b[0m\n",
      "\u001b[34mEpoch 1:  30%|███       | 33/110 [00:23<00:55,  1.39it/s, loss=0.207, v_num=0, val/loss=0.511, val/acc=0.859]\u001b[0m\n",
      "\u001b[34mEpoch 1:  30%|███       | 33/110 [00:24<00:56,  1.35it/s, loss=0.204, v_num=0, val/loss=0.511, val/acc=0.859]\u001b[0m\n",
      "\u001b[34mEpoch 1:  31%|███       | 34/110 [00:24<00:54,  1.39it/s, loss=0.204, v_num=0, val/loss=0.511, val/acc=0.859]\u001b[0m\n",
      "\u001b[34mEpoch 1:  31%|███       | 34/110 [00:25<00:56,  1.35it/s, loss=0.197, v_num=0, val/loss=0.511, val/acc=0.859]\u001b[0m\n",
      "\u001b[34mEpoch 1:  32%|███▏      | 35/110 [00:25<00:53,  1.39it/s, loss=0.197, v_num=0, val/loss=0.511, val/acc=0.859]\u001b[0m\n",
      "\u001b[34mEpoch 1:  32%|███▏      | 35/110 [00:25<00:55,  1.36it/s, loss=0.2, v_num=0, val/loss=0.511, val/acc=0.859]\u001b[0m\n",
      "\u001b[34mEpoch 1:  33%|███▎      | 36/110 [00:25<00:53,  1.39it/s, loss=0.2, v_num=0, val/loss=0.511, val/acc=0.859]\u001b[0m\n",
      "\u001b[34mEpoch 1:  33%|███▎      | 36/110 [00:26<00:54,  1.36it/s, loss=0.196, v_num=0, val/loss=0.511, val/acc=0.859]\u001b[0m\n",
      "\u001b[34mEpoch 1:  34%|███▎      | 37/110 [00:26<00:52,  1.39it/s, loss=0.196, v_num=0, val/loss=0.511, val/acc=0.859]\u001b[0m\n",
      "\u001b[34mEpoch 1:  34%|███▎      | 37/110 [00:27<00:53,  1.36it/s, loss=0.194, v_num=0, val/loss=0.511, val/acc=0.859]\u001b[0m\n",
      "\u001b[34mEpoch 1:  35%|███▍      | 38/110 [00:27<00:51,  1.39it/s, loss=0.194, v_num=0, val/loss=0.511, val/acc=0.859]\u001b[0m\n",
      "\u001b[34mEpoch 1:  35%|███▍      | 38/110 [00:27<00:52,  1.36it/s, loss=0.192, v_num=0, val/loss=0.511, val/acc=0.859]\u001b[0m\n",
      "\u001b[34mEpoch 1:  35%|███▌      | 39/110 [00:27<00:50,  1.39it/s, loss=0.192, v_num=0, val/loss=0.511, val/acc=0.859]\u001b[0m\n",
      "\u001b[34mEpoch 1:  35%|███▌      | 39/110 [00:28<00:51,  1.37it/s, loss=0.196, v_num=0, val/loss=0.511, val/acc=0.859]\u001b[0m\n",
      "\u001b[34mEpoch 1:  36%|███▋      | 40/110 [00:28<00:50,  1.40it/s, loss=0.196, v_num=0, val/loss=0.511, val/acc=0.859]\u001b[0m\n",
      "\u001b[34mEpoch 1:  36%|███▋      | 40/110 [00:29<00:51,  1.37it/s, loss=0.197, v_num=0, val/loss=0.511, val/acc=0.859]\u001b[0m\n",
      "\u001b[34mEpoch 1:  37%|███▋      | 41/110 [00:29<00:49,  1.40it/s, loss=0.197, v_num=0, val/loss=0.511, val/acc=0.859]\u001b[0m\n",
      "\u001b[34mEpoch 1:  37%|███▋      | 41/110 [00:29<00:50,  1.37it/s, loss=0.193, v_num=0, val/loss=0.511, val/acc=0.859]\u001b[0m\n",
      "\u001b[34mEpoch 1:  38%|███▊      | 42/110 [00:30<00:48,  1.40it/s, loss=0.193, v_num=0, val/loss=0.511, val/acc=0.859]\u001b[0m\n",
      "\u001b[34mEpoch 1:  38%|███▊      | 42/110 [00:30<00:49,  1.37it/s, loss=0.192, v_num=0, val/loss=0.511, val/acc=0.859]\u001b[0m\n",
      "\u001b[34mEpoch 1:  39%|███▉      | 43/110 [00:30<00:47,  1.40it/s, loss=0.192, v_num=0, val/loss=0.511, val/acc=0.859]\u001b[0m\n",
      "\u001b[34mEpoch 1:  39%|███▉      | 43/110 [00:31<00:48,  1.37it/s, loss=0.198, v_num=0, val/loss=0.511, val/acc=0.859]\u001b[0m\n",
      "\u001b[34mEpoch 1:  40%|████      | 44/110 [00:31<00:47,  1.40it/s, loss=0.198, v_num=0, val/loss=0.511, val/acc=0.859]\u001b[0m\n",
      "\u001b[34mEpoch 1:  40%|████      | 44/110 [00:32<00:48,  1.37it/s, loss=0.207, v_num=0, val/loss=0.511, val/acc=0.859]\u001b[0m\n",
      "\u001b[34mEpoch 1:  41%|████      | 45/110 [00:32<00:46,  1.40it/s, loss=0.207, v_num=0, val/loss=0.511, val/acc=0.859]\u001b[0m\n",
      "\u001b[34mEpoch 1:  41%|████      | 45/110 [00:32<00:47,  1.38it/s, loss=0.205, v_num=0, val/loss=0.511, val/acc=0.859]\u001b[0m\n",
      "\u001b[34mEpoch 1:  42%|████▏     | 46/110 [00:32<00:45,  1.40it/s, loss=0.205, v_num=0, val/loss=0.511, val/acc=0.859]\u001b[0m\n",
      "\u001b[34mEpoch 1:  42%|████▏     | 46/110 [00:33<00:46,  1.38it/s, loss=0.202, v_num=0, val/loss=0.511, val/acc=0.859]\u001b[0m\n",
      "\u001b[34mEpoch 1:  43%|████▎     | 47/110 [00:33<00:44,  1.40it/s, loss=0.202, v_num=0, val/loss=0.511, val/acc=0.859]\u001b[0m\n",
      "\u001b[34mEpoch 1:  43%|████▎     | 47/110 [00:34<00:45,  1.38it/s, loss=0.203, v_num=0, val/loss=0.511, val/acc=0.859]\u001b[0m\n",
      "\u001b[34mEpoch 1:  44%|████▎     | 48/110 [00:34<00:44,  1.40it/s, loss=0.203, v_num=0, val/loss=0.511, val/acc=0.859]\u001b[0m\n",
      "\u001b[34mEpoch 1:  44%|████▎     | 48/110 [00:34<00:44,  1.38it/s, loss=0.202, v_num=0, val/loss=0.511, val/acc=0.859]\u001b[0m\n",
      "\u001b[34mEpoch 1:  45%|████▍     | 49/110 [00:34<00:43,  1.41it/s, loss=0.202, v_num=0, val/loss=0.511, val/acc=0.859]\u001b[0m\n",
      "\u001b[34mEpoch 1:  45%|████▍     | 49/110 [00:35<00:44,  1.38it/s, loss=0.208, v_num=0, val/loss=0.511, val/acc=0.859]\u001b[0m\n",
      "\u001b[34mEpoch 1:  45%|████▌     | 50/110 [00:35<00:42,  1.41it/s, loss=0.208, v_num=0, val/loss=0.511, val/acc=0.859]\u001b[0m\n",
      "\u001b[34mEpoch 1:  45%|████▌     | 50/110 [00:36<00:43,  1.38it/s, loss=0.202, v_num=0, val/loss=0.511, val/acc=0.859]\u001b[0m\n",
      "\u001b[34mEpoch 1:  46%|████▋     | 51/110 [00:36<00:41,  1.41it/s, loss=0.202, v_num=0, val/loss=0.511, val/acc=0.859]\u001b[0m\n",
      "\u001b[34mEpoch 1:  46%|████▋     | 51/110 [00:36<00:42,  1.38it/s, loss=0.2, v_num=0, val/loss=0.511, val/acc=0.859]\u001b[0m\n",
      "\u001b[34mEpoch 1:  47%|████▋     | 52/110 [00:36<00:41,  1.41it/s, loss=0.2, v_num=0, val/loss=0.511, val/acc=0.859]\u001b[0m\n",
      "\u001b[34mEpoch 1:  47%|████▋     | 52/110 [00:37<00:41,  1.39it/s, loss=0.203, v_num=0, val/loss=0.511, val/acc=0.859]\u001b[0m\n",
      "\u001b[34mEpoch 1:  48%|████▊     | 53/110 [00:37<00:40,  1.41it/s, loss=0.203, v_num=0, val/loss=0.511, val/acc=0.859]\u001b[0m\n",
      "\u001b[34mEpoch 1:  48%|████▊     | 53/110 [00:38<00:41,  1.39it/s, loss=0.201, v_num=0, val/loss=0.511, val/acc=0.859]\u001b[0m\n",
      "\u001b[34mEpoch 1:  49%|████▉     | 54/110 [00:38<00:39,  1.41it/s, loss=0.201, v_num=0, val/loss=0.511, val/acc=0.859]\u001b[0m\n",
      "\u001b[34mEpoch 1:  49%|████▉     | 54/110 [00:38<00:40,  1.39it/s, loss=0.206, v_num=0, val/loss=0.511, val/acc=0.859]\u001b[0m\n",
      "\u001b[34mEpoch 1:  50%|█████     | 55/110 [00:38<00:38,  1.41it/s, loss=0.206, v_num=0, val/loss=0.511, val/acc=0.859]\u001b[0m\n",
      "\u001b[34mEpoch 1:  50%|█████     | 55/110 [00:39<00:39,  1.39it/s, loss=0.206, v_num=0, val/loss=0.511, val/acc=0.859]\u001b[0m\n",
      "\u001b[34mValidation: 0it [00:00, ?it/s]#033[A\u001b[0m\n",
      "\u001b[34mValidation:   0%|          | 0/55 [00:00<?, ?it/s]\u001b[0m\n",
      "\u001b[34m#033[A\u001b[0m\n",
      "\u001b[34mValidation DataLoader 0:   0%|          | 0/55 [00:00<?, ?it/s]\u001b[0m\n",
      "\u001b[34m#033[A\u001b[0m\n",
      "\u001b[34mValidation DataLoader 0:   2%|▏         | 1/55 [00:00<00:10,  5.19it/s]\u001b[0m\n",
      "\u001b[34m#033[A\u001b[0m\n",
      "\u001b[34mEpoch 1:  51%|█████     | 56/110 [00:40<00:39,  1.37it/s, loss=0.206, v_num=0, val/loss=0.511, val/acc=0.859]\u001b[0m\n",
      "\u001b[34mValidation DataLoader 0:   4%|▎         | 2/55 [00:00<00:12,  4.09it/s]\u001b[0m\n",
      "\u001b[34m#033[A\u001b[0m\n",
      "\u001b[34mEpoch 1:  52%|█████▏    | 57/110 [00:41<00:38,  1.38it/s, loss=0.206, v_num=0, val/loss=0.511, val/acc=0.859]\u001b[0m\n",
      "\u001b[34mValidation DataLoader 0:   5%|▌         | 3/55 [00:00<00:15,  3.46it/s]#033[A\u001b[0m\n",
      "\u001b[34mEpoch 1:  53%|█████▎    | 58/110 [00:41<00:37,  1.39it/s, loss=0.206, v_num=0, val/loss=0.511, val/acc=0.859]\u001b[0m\n",
      "\u001b[34mValidation DataLoader 0:   7%|▋         | 4/55 [00:01<00:16,  3.17it/s]#033[A\u001b[0m\n",
      "\u001b[34mEpoch 1:  54%|█████▎    | 59/110 [00:41<00:36,  1.41it/s, loss=0.206, v_num=0, val/loss=0.511, val/acc=0.859]\u001b[0m\n",
      "\u001b[34mValidation DataLoader 0:   9%|▉         | 5/55 [00:01<00:16,  3.12it/s]#033[A\u001b[0m\n",
      "\u001b[34mEpoch 1:  55%|█████▍    | 60/110 [00:42<00:35,  1.42it/s, loss=0.206, v_num=0, val/loss=0.511, val/acc=0.859]\u001b[0m\n",
      "\u001b[34mValidation DataLoader 0:  11%|█         | 6/55 [00:01<00:15,  3.21it/s]#033[A#015Epoch 1:  55%|█████▌    | 61/110 [00:42<00:34,  1.43it/s, loss=0.206, v_num=0, val/loss=0.511, val/acc=0.859]\u001b[0m\n",
      "\u001b[34mValidation DataLoader 0:  13%|█▎        | 7/55 [00:02<00:14,  3.29it/s]#033[A\u001b[0m\n",
      "\u001b[34mEpoch 1:  56%|█████▋    | 62/110 [00:42<00:33,  1.45it/s, loss=0.206, v_num=0, val/loss=0.511, val/acc=0.859]\u001b[0m\n",
      "\u001b[34mValidation DataLoader 0:  15%|█▍        | 8/55 [00:02<00:14,  3.34it/s]#033[A\u001b[0m\n",
      "\u001b[34mEpoch 1:  57%|█████▋    | 63/110 [00:43<00:32,  1.46it/s, loss=0.206, v_num=0, val/loss=0.511, val/acc=0.859]\u001b[0m\n",
      "\u001b[34mValidation DataLoader 0:  16%|█▋        | 9/55 [00:02<00:13,  3.38it/s]#033[A\u001b[0m\n",
      "\u001b[34mEpoch 1:  58%|█████▊    | 64/110 [00:43<00:31,  1.48it/s, loss=0.206, v_num=0, val/loss=0.511, val/acc=0.859]\u001b[0m\n",
      "\u001b[34mValidation DataLoader 0:  18%|█▊        | 10/55 [00:02<00:13,  3.43it/s]#033[A#015Epoch 1:  59%|█████▉    | 65/110 [00:43<00:30,  1.49it/s, loss=0.206, v_num=0, val/loss=0.511, val/acc=0.859]\u001b[0m\n",
      "\u001b[34mValidation DataLoader 0:  20%|██        | 11/55 [00:03<00:12,  3.47it/s]#033[A#015Epoch 1:  60%|██████    | 66/110 [00:43<00:29,  1.50it/s, loss=0.206, v_num=0, val/loss=0.511, val/acc=0.859]\u001b[0m\n",
      "\u001b[34mValidation DataLoader 0:  22%|██▏       | 12/55 [00:03<00:12,  3.49it/s]#033[A#015Epoch 1:  61%|██████    | 67/110 [00:44<00:28,  1.52it/s, loss=0.206, v_num=0, val/loss=0.511, val/acc=0.859]\u001b[0m\n",
      "\u001b[34mValidation DataLoader 0:  24%|██▎       | 13/55 [00:03<00:11,  3.52it/s]#033[A#015Epoch 1:  62%|██████▏   | 68/110 [00:44<00:27,  1.53it/s, loss=0.206, v_num=0, val/loss=0.511, val/acc=0.859]\u001b[0m\n",
      "\u001b[34mValidation DataLoader 0:  25%|██▌       | 14/55 [00:03<00:11,  3.52it/s]#033[A\u001b[0m\n",
      "\u001b[34mEpoch 1:  63%|██████▎   | 69/110 [00:44<00:26,  1.54it/s, loss=0.206, v_num=0, val/loss=0.511, val/acc=0.859]\u001b[0m\n",
      "\u001b[34mValidation DataLoader 0:  27%|██▋       | 15/55 [00:04<00:11,  3.55it/s]#033[A#015Epoch 1:  64%|██████▎   | 70/110 [00:44<00:25,  1.56it/s, loss=0.206, v_num=0, val/loss=0.511, val/acc=0.859]\u001b[0m\n",
      "\u001b[34mValidation DataLoader 0:  29%|██▉       | 16/55 [00:04<00:10,  3.55it/s]#033[A\u001b[0m\n",
      "\u001b[34mEpoch 1:  65%|██████▍   | 71/110 [00:45<00:24,  1.57it/s, loss=0.206, v_num=0, val/loss=0.511, val/acc=0.859]\u001b[0m\n",
      "\u001b[34mValidation DataLoader 0:  31%|███       | 17/55 [00:04<00:10,  3.56it/s]#033[A#015Epoch 1:  65%|██████▌   | 72/110 [00:45<00:24,  1.58it/s, loss=0.206, v_num=0, val/loss=0.511, val/acc=0.859]\u001b[0m\n",
      "\u001b[34mValidation DataLoader 0:  33%|███▎      | 18/55 [00:05<00:10,  3.58it/s]#033[A\u001b[0m\n",
      "\u001b[34mEpoch 1:  66%|██████▋   | 73/110 [00:45<00:23,  1.60it/s, loss=0.206, v_num=0, val/loss=0.511, val/acc=0.859]\u001b[0m\n",
      "\u001b[34mValidation DataLoader 0:  35%|███▍      | 19/55 [00:05<00:09,  3.60it/s]#033[A#015Epoch 1:  67%|██████▋   | 74/110 [00:45<00:22,  1.61it/s, loss=0.206, v_num=0, val/loss=0.511, val/acc=0.859]\u001b[0m\n",
      "\u001b[34mValidation DataLoader 0:  36%|███▋      | 20/55 [00:05<00:09,  3.61it/s]#033[A#015Epoch 1:  68%|██████▊   | 75/110 [00:46<00:21,  1.62it/s, loss=0.206, v_num=0, val/loss=0.511, val/acc=0.859]\u001b[0m\n",
      "\u001b[34mValidation DataLoader 0:  38%|███▊      | 21/55 [00:05<00:09,  3.62it/s]#033[A#015Epoch 1:  69%|██████▉   | 76/110 [00:46<00:20,  1.63it/s, loss=0.206, v_num=0, val/loss=0.511, val/acc=0.859]\u001b[0m\n",
      "\u001b[34mValidation DataLoader 0:  40%|████      | 22/55 [00:06<00:09,  3.63it/s]#033[A#015Epoch 1:  70%|███████   | 77/110 [00:46<00:20,  1.65it/s, loss=0.206, v_num=0, val/loss=0.511, val/acc=0.859]\u001b[0m\n",
      "\u001b[34mValidation DataLoader 0:  42%|████▏     | 23/55 [00:06<00:08,  3.64it/s]#033[A\u001b[0m\n",
      "\u001b[34mEpoch 1:  71%|███████   | 78/110 [00:47<00:19,  1.66it/s, loss=0.206, v_num=0, val/loss=0.511, val/acc=0.859]\u001b[0m\n",
      "\u001b[34mValidation DataLoader 0:  44%|████▎     | 24/55 [00:06<00:08,  3.64it/s]#033[A\u001b[0m\n",
      "\u001b[34mEpoch 1:  72%|███████▏  | 79/110 [00:47<00:18,  1.67it/s, loss=0.206, v_num=0, val/loss=0.511, val/acc=0.859]\u001b[0m\n",
      "\u001b[34mValidation DataLoader 0:  45%|████▌     | 25/55 [00:06<00:08,  3.64it/s]#033[A#015Epoch 1:  73%|███████▎  | 80/110 [00:47<00:17,  1.68it/s, loss=0.206, v_num=0, val/loss=0.511, val/acc=0.859]\u001b[0m\n",
      "\u001b[34mValidation DataLoader 0:  47%|████▋     | 26/55 [00:07<00:07,  3.66it/s]#033[A\u001b[0m\n",
      "\u001b[34mEpoch 1:  74%|███████▎  | 81/110 [00:47<00:17,  1.69it/s, loss=0.206, v_num=0, val/loss=0.511, val/acc=0.859]\u001b[0m\n",
      "\u001b[34mValidation DataLoader 0:  49%|████▉     | 27/55 [00:07<00:07,  3.66it/s]\u001b[0m\n",
      "\u001b[34m#033[A\u001b[0m\n",
      "\u001b[34mEpoch 1:  75%|███████▍  | 82/110 [00:48<00:16,  1.70it/s, loss=0.206, v_num=0, val/loss=0.511, val/acc=0.859]\u001b[0m\n",
      "\u001b[34mValidation DataLoader 0:  51%|█████     | 28/55 [00:07<00:07,  3.66it/s]#033[A\u001b[0m\n",
      "\u001b[34mEpoch 1:  75%|███████▌  | 83/110 [00:48<00:15,  1.72it/s, loss=0.206, v_num=0, val/loss=0.511, val/acc=0.859]\u001b[0m\n",
      "\u001b[34mValidation DataLoader 0:  53%|█████▎    | 29/55 [00:07<00:07,  3.66it/s]#033[A#015Epoch 1:  76%|███████▋  | 84/110 [00:48<00:15,  1.73it/s, loss=0.206, v_num=0, val/loss=0.511, val/acc=0.859]\u001b[0m\n",
      "\u001b[34mValidation DataLoader 0:  55%|█████▍    | 30/55 [00:08<00:06,  3.66it/s]#033[A\u001b[0m\n",
      "\u001b[34mEpoch 1:  77%|███████▋  | 85/110 [00:48<00:14,  1.74it/s, loss=0.206, v_num=0, val/loss=0.511, val/acc=0.859]\u001b[0m\n",
      "\u001b[34mValidation DataLoader 0:  56%|█████▋    | 31/55 [00:08<00:06,  3.67it/s]#033[A#015Epoch 1:  78%|███████▊  | 86/110 [00:49<00:13,  1.75it/s, loss=0.206, v_num=0, val/loss=0.511, val/acc=0.859]\u001b[0m\n",
      "\u001b[34mValidation DataLoader 0:  58%|█████▊    | 32/55 [00:08<00:06,  3.67it/s]#033[A#015Epoch 1:  79%|███████▉  | 87/110 [00:49<00:13,  1.76it/s, loss=0.206, v_num=0, val/loss=0.511, val/acc=0.859]\u001b[0m\n",
      "\u001b[34mValidation DataLoader 0:  60%|██████    | 33/55 [00:08<00:05,  3.68it/s]#033[A#015Epoch 1:  80%|████████  | 88/110 [00:49<00:12,  1.77it/s, loss=0.206, v_num=0, val/loss=0.511, val/acc=0.859]\u001b[0m\n",
      "\u001b[34mValidation DataLoader 0:  62%|██████▏   | 34/55 [00:09<00:05,  3.69it/s]#033[A#015Epoch 1:  81%|████████  | 89/110 [00:49<00:11,  1.78it/s, loss=0.206, v_num=0, val/loss=0.511, val/acc=0.859]\u001b[0m\n",
      "\u001b[34mValidation DataLoader 0:  64%|██████▎   | 35/55 [00:09<00:05,  3.69it/s]#033[A#015Epoch 1:  82%|████████▏ | 90/110 [00:50<00:11,  1.79it/s, loss=0.206, v_num=0, val/loss=0.511, val/acc=0.859]\u001b[0m\n",
      "\u001b[34mValidation DataLoader 0:  65%|██████▌   | 36/55 [00:09<00:05,  3.69it/s]#033[A#015Epoch 1:  83%|████████▎ | 91/110 [00:50<00:10,  1.80it/s, loss=0.206, v_num=0, val/loss=0.511, val/acc=0.859]\u001b[0m\n",
      "\u001b[34mValidation DataLoader 0:  67%|██████▋   | 37/55 [00:09<00:04,  3.70it/s]#033[A#015Epoch 1:  84%|████████▎ | 92/110 [00:50<00:09,  1.81it/s, loss=0.206, v_num=0, val/loss=0.511, val/acc=0.859]\u001b[0m\n",
      "\u001b[34mValidation DataLoader 0:  69%|██████▉   | 38/55 [00:10<00:04,  3.70it/s]#033[A#015Epoch 1:  85%|████████▍ | 93/110 [00:50<00:09,  1.82it/s, loss=0.206, v_num=0, val/loss=0.511, val/acc=0.859]\u001b[0m\n",
      "\u001b[34mValidation DataLoader 0:  71%|███████   | 39/55 [00:10<00:04,  3.70it/s]#033[A\u001b[0m\n",
      "\u001b[34mEpoch 1:  85%|████████▌ | 94/110 [00:51<00:08,  1.83it/s, loss=0.206, v_num=0, val/loss=0.511, val/acc=0.859]\u001b[0m\n",
      "\u001b[34mValidation DataLoader 0:  73%|███████▎  | 40/55 [00:10<00:04,  3.70it/s]#033[A\u001b[0m\n",
      "\u001b[34mEpoch 1:  86%|████████▋ | 95/110 [00:51<00:08,  1.84it/s, loss=0.206, v_num=0, val/loss=0.511, val/acc=0.859]\u001b[0m\n",
      "\u001b[34mValidation DataLoader 0:  75%|███████▍  | 41/55 [00:11<00:03,  3.70it/s]#033[A\u001b[0m\n",
      "\u001b[34mEpoch 1:  87%|████████▋ | 96/110 [00:51<00:07,  1.85it/s, loss=0.206, v_num=0, val/loss=0.511, val/acc=0.859]\u001b[0m\n",
      "\u001b[34mValidation DataLoader 0:  76%|███████▋  | 42/55 [00:11<00:03,  3.71it/s]#033[A#015Epoch 1:  88%|████████▊ | 97/110 [00:52<00:06,  1.86it/s, loss=0.206, v_num=0, val/loss=0.511, val/acc=0.859]\u001b[0m\n",
      "\u001b[34mValidation DataLoader 0:  78%|███████▊  | 43/55 [00:11<00:03,  3.70it/s]\u001b[0m\n",
      "\u001b[34m#033[A\u001b[0m\n",
      "\u001b[34mEpoch 1:  89%|████████▉ | 98/110 [00:52<00:06,  1.87it/s, loss=0.206, v_num=0, val/loss=0.511, val/acc=0.859]\u001b[0m\n",
      "\u001b[34mValidation DataLoader 0:  80%|████████  | 44/55 [00:11<00:02,  3.70it/s]#033[A\u001b[0m\n",
      "\u001b[34mEpoch 1:  90%|█████████ | 99/110 [00:52<00:05,  1.88it/s, loss=0.206, v_num=0, val/loss=0.511, val/acc=0.859]\u001b[0m\n",
      "\u001b[34mValidation DataLoader 0:  82%|████████▏ | 45/55 [00:12<00:02,  3.70it/s]#033[A\u001b[0m\n",
      "\u001b[34mEpoch 1:  91%|█████████ | 100/110 [00:52<00:05,  1.89it/s, loss=0.206, v_num=0, val/loss=0.511, val/acc=0.859]\u001b[0m\n",
      "\u001b[34mValidation DataLoader 0:  84%|████████▎ | 46/55 [00:12<00:02,  3.70it/s]#033[A#015Epoch 1:  92%|█████████▏| 101/110 [00:53<00:04,  1.90it/s, loss=0.206, v_num=0, val/loss=0.511, val/acc=0.859]\u001b[0m\n",
      "\u001b[34mValidation DataLoader 0:  85%|████████▌ | 47/55 [00:12<00:02,  3.71it/s]#033[A\u001b[0m\n",
      "\u001b[34mEpoch 1:  93%|█████████▎| 102/110 [00:53<00:04,  1.91it/s, loss=0.206, v_num=0, val/loss=0.511, val/acc=0.859]\u001b[0m\n",
      "\u001b[34mValidation DataLoader 0:  87%|████████▋ | 48/55 [00:12<00:01,  3.71it/s]#033[A\u001b[0m\n",
      "\u001b[34mEpoch 1:  94%|█████████▎| 103/110 [00:53<00:03,  1.92it/s, loss=0.206, v_num=0, val/loss=0.511, val/acc=0.859]\u001b[0m\n",
      "\u001b[34mValidation DataLoader 0:  89%|████████▉ | 49/55 [00:13<00:01,  3.72it/s]#033[A\u001b[0m\n",
      "\u001b[34mEpoch 1:  95%|█████████▍| 104/110 [00:53<00:03,  1.93it/s, loss=0.206, v_num=0, val/loss=0.511, val/acc=0.859]\u001b[0m\n",
      "\u001b[34mValidation DataLoader 0:  91%|█████████ | 50/55 [00:13<00:01,  3.73it/s]#033[A\u001b[0m\n",
      "\u001b[34mEpoch 1:  95%|█████████▌| 105/110 [00:54<00:02,  1.94it/s, loss=0.206, v_num=0, val/loss=0.511, val/acc=0.859]\u001b[0m\n",
      "\u001b[34mValidation DataLoader 0:  93%|█████████▎| 51/55 [00:13<00:01,  3.73it/s]#033[A\u001b[0m\n",
      "\u001b[34mEpoch 1:  96%|█████████▋| 106/110 [00:54<00:02,  1.95it/s, loss=0.206, v_num=0, val/loss=0.511, val/acc=0.859]\u001b[0m\n",
      "\u001b[34mValidation DataLoader 0:  95%|█████████▍| 52/55 [00:13<00:00,  3.74it/s]#033[A\u001b[0m\n",
      "\u001b[34mEpoch 1:  97%|█████████▋| 107/110 [00:54<00:01,  1.96it/s, loss=0.206, v_num=0, val/loss=0.511, val/acc=0.859]\u001b[0m\n",
      "\u001b[34mValidation DataLoader 0:  96%|█████████▋| 53/55 [00:14<00:00,  3.74it/s]#033[A\u001b[0m\n",
      "\u001b[34mEpoch 1:  98%|█████████▊| 108/110 [00:54<00:01,  1.97it/s, loss=0.206, v_num=0, val/loss=0.511, val/acc=0.859]\u001b[0m\n",
      "\u001b[34mValidation DataLoader 0:  98%|█████████▊| 54/55 [00:14<00:00,  3.75it/s]#033[A\u001b[0m\n",
      "\u001b[34mEpoch 1:  99%|█████████▉| 109/110 [00:55<00:00,  1.98it/s, loss=0.206, v_num=0, val/loss=0.511, val/acc=0.859]\u001b[0m\n",
      "\u001b[34mValidation DataLoader 0: 100%|██████████| 55/55 [00:14<00:00,  3.77it/s]#033[A\u001b[0m\n",
      "\u001b[34mEpoch 1: 100%|██████████| 110/110 [00:55<00:00,  1.99it/s, loss=0.206, v_num=0, val/loss=0.511, val/acc=0.859]\u001b[0m\n",
      "\u001b[34mEpoch 1: 100%|██████████| 110/110 [00:55<00:00,  1.99it/s, loss=0.206, v_num=0, val/loss=0.188, val/acc=0.936]\u001b[0m\n",
      "\u001b[34m#033[A\u001b[0m\n",
      "\u001b[34mEpoch 1: 100%|██████████| 110/110 [00:55<00:00,  1.99it/s, loss=0.206, v_num=0, val/loss=0.188, val/acc=0.936]\u001b[0m\n",
      "\u001b[34m`Trainer.fit` stopped: `max_epochs=2` reached.\u001b[0m\n",
      "\u001b[34mEpoch 1: 100%|██████████| 110/110 [00:55<00:00,  1.98it/s, loss=0.206, v_num=0, val/loss=0.188, val/acc=0.936]\u001b[0m\n",
      "\u001b[34m:: Saving Scripted Model\u001b[0m\n",
      "\u001b[34m2023-02-12 15:38:56,007 sagemaker-training-toolkit INFO     Waiting for the process to finish and give a return code.\u001b[0m\n",
      "\u001b[34m2023-02-12 15:38:56,007 sagemaker-training-toolkit INFO     Done waiting for a return code. Received 0 from exiting process.\u001b[0m\n",
      "\u001b[34m2023-02-12 15:38:56,008 sagemaker-training-toolkit INFO     Reporting training SUCCESS\u001b[0m\n",
      "\n",
      "2023-02-12 15:38:59 Uploading - Uploading generated training model\n",
      "2023-02-12 15:39:14 Completed - Training job completed\n",
      "Training seconds: 614\n",
      "Billable seconds: 184\n",
      "Managed Spot Training savings: 70.0%\n"
     ]
    }
   ],
   "source": [
    "pt_estimator.fit()"
   ]
  },
  {
   "cell_type": "markdown",
   "id": "024cb987-bb1f-4e98-a044-a43746510735",
   "metadata": {},
   "source": [
    "## Deploy to Endpoint"
   ]
  },
  {
   "cell_type": "code",
   "execution_count": 7,
   "id": "3f36d620-01b1-4a4b-baed-ee05248ba2c1",
   "metadata": {
    "tags": []
   },
   "outputs": [],
   "source": [
    "from sagemaker.pytorch import PyTorchModel\n",
    "from sagemaker.serializers import JSONSerializer\n",
    "from sagemaker.deserializers import JSONDeserializer"
   ]
  },
  {
   "cell_type": "markdown",
   "id": "386bac9b-13b3-42e5-8dc1-194bc12cb6ea",
   "metadata": {},
   "source": [
    "Get the `model_data` from the models uploaded to S3 of the aboved training"
   ]
  },
  {
   "cell_type": "markdown",
   "id": "30d85420-0ef5-44e7-866b-d6fdb502c9e0",
   "metadata": {},
   "source": [
    "Once your debugging is done, it's better to simply call `pt_estimator.deploy`"
   ]
  },
  {
   "cell_type": "code",
   "execution_count": 8,
   "id": "278826ba-1fb6-4361-9c15-8793455ce308",
   "metadata": {
    "tags": []
   },
   "outputs": [],
   "source": [
    "model = PyTorchModel(\n",
    "    entry_point=\"infer.py\",\n",
    "    source_dir=\"utils\",\n",
    "    role=get_execution_role(),\n",
    "    model_data=\"s3://sagemaker-us-west-2-523843493491/training-intel-dataset-2023-02-12-15-27-11-011/output/model.tar.gz\",\n",
    "    framework_version=\"1.12.0\",\n",
    "    py_version=\"py38\",\n",
    "    # image_uri='523843493491.dkr.ecr.us-west-2.amazonaws.com/emlov2-private-repo-yaseen:latest'\n",
    ")"
   ]
  },
  {
   "cell_type": "code",
   "execution_count": 41,
   "id": "aec12d4d-fc66-40bf-b976-c9216c0d7fdb",
   "metadata": {
    "tags": []
   },
   "outputs": [
    {
     "name": "stderr",
     "output_type": "stream",
     "text": [
      "INFO:sagemaker:Creating model with name: pytorch-inference-2023-02-12-20-51-48-610\n",
      "INFO:sagemaker:Creating endpoint-config with name pytorch-inference-2023-02-12-20-51-49-209\n",
      "INFO:sagemaker:Creating endpoint with name pytorch-inference-2023-02-12-20-51-49-209\n"
     ]
    },
    {
     "name": "stdout",
     "output_type": "stream",
     "text": [
      "--------!"
     ]
    }
   ],
   "source": [
    "predictor = model.deploy(\n",
    "    initial_instance_count=1,\n",
    "    instance_type=\"ml.t2.medium\",\n",
    "    serializer=JSONSerializer(),\n",
    "    deserializer=JSONDeserializer(),\n",
    ")"
   ]
  },
  {
   "cell_type": "markdown",
   "id": "90d6963a-3d06-47b2-8ad9-ce726a1efc96",
   "metadata": {},
   "source": [
    "## Predictor"
   ]
  },
  {
   "cell_type": "code",
   "execution_count": 9,
   "id": "03f1b820-edaa-42c1-9250-482ee1e7bfcc",
   "metadata": {
    "tags": []
   },
   "outputs": [],
   "source": [
    "from sagemaker.pytorch import PyTorchPredictor"
   ]
  },
  {
   "cell_type": "markdown",
   "id": "df81d9d4-7e85-4f29-bf65-61552c25bb0c",
   "metadata": {},
   "source": [
    "Predictor is also not needed to be created again, but today we want to be verbose"
   ]
  },
  {
   "cell_type": "code",
   "execution_count": 10,
   "id": "9c4cf8e8-bfd8-4c9a-b39b-01c4e4a13c58",
   "metadata": {
    "tags": []
   },
   "outputs": [],
   "source": [
    "predictor_new = PyTorchPredictor(\n",
    "    endpoint_name=\"pytorch-inference-2023-02-12-20-51-49-209\",\n",
    "    sagemaker_session=sagemaker_session,\n",
    "    serializer=JSONSerializer(),\n",
    "    deserializer=JSONDeserializer(),\n",
    ")"
   ]
  },
  {
   "cell_type": "code",
   "execution_count": 11,
   "id": "84cac30d-8867-41d0-afe2-5793bd87c659",
   "metadata": {
    "tags": []
   },
   "outputs": [],
   "source": [
    "import numpy as np"
   ]
  },
  {
   "cell_type": "code",
   "execution_count": 12,
   "id": "a34d8797-6ce3-4104-a81b-eca9cec5eb13",
   "metadata": {
    "tags": []
   },
   "outputs": [],
   "source": [
    "dummy_data = {\"inputs\": np.random.randn(1, 3, 224, 224)}"
   ]
  },
  {
   "cell_type": "code",
   "execution_count": 13,
   "id": "157c2ee6-74e9-4d04-b54c-18037344f514",
   "metadata": {
    "tags": []
   },
   "outputs": [],
   "source": [
    "out = predictor_new.predict(dummy_data)"
   ]
  },
  {
   "cell_type": "code",
   "execution_count": 14,
   "id": "a60e50ad-eb8f-4dd1-ad2b-9ee2a77235c7",
   "metadata": {
    "tags": []
   },
   "outputs": [
    {
     "data": {
      "text/plain": [
       "[{'forest': 0.6315997242927551,\n",
       "  'buildings': 0.20310011506080627,\n",
       "  'street': 0.1272009015083313,\n",
       "  'glacier': 0.019703254103660583,\n",
       "  'sea': 0.012445828877389431}]"
      ]
     },
     "execution_count": 14,
     "metadata": {},
     "output_type": "execute_result"
    }
   ],
   "source": [
    "out"
   ]
  },
  {
   "cell_type": "code",
   "execution_count": 15,
   "id": "e2ab55f6-7bf4-429b-aff4-5eac27dcc62c",
   "metadata": {
    "tags": []
   },
   "outputs": [],
   "source": [
    "out = np.array(out)"
   ]
  },
  {
   "cell_type": "code",
   "execution_count": 16,
   "id": "130273d3-ed98-442b-8956-b145d865e702",
   "metadata": {
    "tags": []
   },
   "outputs": [
    {
     "data": {
      "text/plain": [
       "(1,)"
      ]
     },
     "execution_count": 16,
     "metadata": {},
     "output_type": "execute_result"
    }
   ],
   "source": [
    "out.shape"
   ]
  },
  {
   "cell_type": "code",
   "execution_count": 32,
   "id": "04478626-d4d8-463f-9664-c9069a4950a7",
   "metadata": {
    "tags": []
   },
   "outputs": [],
   "source": [
    "classnames = ['buildings', 'forest', 'glacier', 'mountain', 'sea', 'street']"
   ]
  },
  {
   "cell_type": "code",
   "execution_count": 19,
   "id": "e5451e18-c834-4010-8c6b-08f5fd592767",
   "metadata": {
    "tags": []
   },
   "outputs": [],
   "source": [
    "from pathlib import Path"
   ]
  },
  {
   "cell_type": "code",
   "execution_count": 30,
   "id": "e13a659a-77c1-4690-be8b-969b2da3c712",
   "metadata": {
    "tags": []
   },
   "outputs": [],
   "source": [
    "# ! wget -O daisy.jpg \"https://hips.hearstapps.com/hmg-prod.s3.amazonaws.com/images/marguerite-daisy-types-1586981163.jpg\"\n",
    "images = ['10004.jpg', '10048.jpg', '10021.jpg', '10059.jpg', '10034.jpg', '10054.jpg', '10005.jpg', '10013.jpg', '1003.jpg', '10038.jpg', '10012.jpg', '10045.jpg']\n",
    "dataset_extracted = Path(\"/root/emlov2-session-12/\")\n",
    "\n",
    "dataset_pred = [(dataset_extracted / \"seg_pred\" / \"seg_pred\" / img_pth) for img_pth in images]\n",
    "# labels_train = [x.parent.stem for x in dataset_train]"
   ]
  },
  {
   "cell_type": "code",
   "execution_count": 26,
   "id": "da62aef8-43c7-4bc8-aee4-5726e2851310",
   "metadata": {
    "tags": []
   },
   "outputs": [],
   "source": [
    "import torch\n",
    "\n",
    "import torchvision.transforms as T\n",
    "import torch.nn.functional as F\n",
    "\n",
    "import matplotlib.pyplot as plt\n",
    "from PIL import Image"
   ]
  },
  {
   "cell_type": "markdown",
   "id": "29e6b178-a4fa-4bbb-b2bd-f7fb4abcf507",
   "metadata": {},
   "source": [
    "We could have done all this in infer.py as well, but today we are being verbose :p"
   ]
  },
  {
   "cell_type": "code",
   "execution_count": null,
   "id": "879fff16-9c91-492e-9f07-91637d01d3d2",
   "metadata": {
    "tags": []
   },
   "outputs": [],
   "source": [
    "# daisy_im.resize((224, 224))"
   ]
  },
  {
   "cell_type": "code",
   "execution_count": null,
   "id": "545bd49a-a080-4e4d-8e5c-3ee8b5fab78b",
   "metadata": {
    "tags": []
   },
   "outputs": [],
   "source": [
    "# transforms = T.Compose([\n",
    "#     T.ToTensor(),\n",
    "#     T.Resize((224, 224)),\n",
    "#     T.Normalize(mean=[0.485, 0.456, 0.406], std=[0.229, 0.224, 0.225])\n",
    "# ])"
   ]
  },
  {
   "cell_type": "code",
   "execution_count": null,
   "id": "49f08d4c-ceb1-42b4-8f63-d128c7b303eb",
   "metadata": {
    "tags": []
   },
   "outputs": [],
   "source": [
    "# daisy_img_t = transforms(daisy_im)"
   ]
  },
  {
   "cell_type": "code",
   "execution_count": 48,
   "id": "fb9259a5-b492-426e-a3af-7087684d1aa4",
   "metadata": {
    "tags": []
   },
   "outputs": [],
   "source": [
    "# all_images = [Image.open(img)[...].numpy().tolist() for img in dataset_pred]\n",
    "all_images = np.array([np.array(Image.open(fname)).transpose(2, 0, 1) for fname in dataset_pred]) # transpose to bring channels first"
   ]
  },
  {
   "cell_type": "code",
   "execution_count": 49,
   "id": "26b4a19a-9f1c-400e-9ed8-ae9fbee9b3a8",
   "metadata": {
    "tags": []
   },
   "outputs": [
    {
     "data": {
      "text/plain": [
       "(12, 3, 150, 150)"
      ]
     },
     "execution_count": 49,
     "metadata": {},
     "output_type": "execute_result"
    }
   ],
   "source": [
    "all_images.shape"
   ]
  },
  {
   "cell_type": "code",
   "execution_count": 50,
   "id": "6f44966d-6891-42ea-bc40-aaae4fdc6af1",
   "metadata": {
    "tags": []
   },
   "outputs": [],
   "source": [
    "# daisy_input = {\"inputs\": daisy_img_t[None, ...].numpy().tolist()}\n",
    "img_input = {\"inputs\": all_images.tolist()}"
   ]
  },
  {
   "cell_type": "code",
   "execution_count": 51,
   "id": "7030372a-1e72-4e1c-ad90-c571c926076c",
   "metadata": {
    "tags": []
   },
   "outputs": [],
   "source": [
    "out = predictor_new.predict(img_input)"
   ]
  },
  {
   "cell_type": "code",
   "execution_count": 52,
   "id": "aa375291-fca5-4eb4-a7b6-940561a96b1d",
   "metadata": {},
   "outputs": [
    {
     "data": {
      "text/plain": [
       "[{'buildings': 1.0,\n",
       "  'sea': 1.6794168279624588e-25,\n",
       "  'street': 6.694399890927259e-31,\n",
       "  'mountain': 0.0,\n",
       "  'glacier': 0.0},\n",
       " {'buildings': 1.0,\n",
       "  'street': 1.6176176038025084e-20,\n",
       "  'sea': 2.3703494896431953e-37,\n",
       "  'mountain': 0.0,\n",
       "  'glacier': 0.0},\n",
       " {'buildings': 1.0,\n",
       "  'street': 4.796061254807181e-37,\n",
       "  'mountain': 0.0,\n",
       "  'sea': 0.0,\n",
       "  'glacier': 0.0},\n",
       " {'buildings': 1.0,\n",
       "  'street': 3.645508955833719e-21,\n",
       "  'sea': 1.2924198258613468e-21,\n",
       "  'mountain': 0.0,\n",
       "  'glacier': 0.0},\n",
       " {'buildings': 1.0,\n",
       "  'street': 9.09453650638777e-19,\n",
       "  'sea': 2.677486051273844e-23,\n",
       "  'glacier': 3.8229318544214983e-32,\n",
       "  'mountain': 0.0},\n",
       " {'buildings': 1.0,\n",
       "  'street': 4.7318232823145895e-21,\n",
       "  'sea': 1.8406005563204252e-23,\n",
       "  'mountain': 0.0,\n",
       "  'glacier': 0.0},\n",
       " {'buildings': 0.9999794960021973,\n",
       "  'street': 2.0502155166468583e-05,\n",
       "  'mountain': 0.0,\n",
       "  'sea': 0.0,\n",
       "  'glacier': 0.0},\n",
       " {'buildings': 1.0,\n",
       "  'street': 8.245597094003188e-09,\n",
       "  'sea': 5.605193857299268e-45,\n",
       "  'mountain': 0.0,\n",
       "  'glacier': 0.0},\n",
       " {'buildings': 1.0,\n",
       "  'street': 3.1830876117995967e-16,\n",
       "  'sea': 2.0933156979469847e-40,\n",
       "  'mountain': 0.0,\n",
       "  'glacier': 0.0},\n",
       " {'buildings': 1.0,\n",
       "  'street': 8.855515210015596e-10,\n",
       "  'sea': 1.3505252759887338e-33,\n",
       "  'mountain': 0.0,\n",
       "  'glacier': 0.0},\n",
       " {'buildings': 1.0,\n",
       "  'street': 2.8291074146222267e-18,\n",
       "  'mountain': 0.0,\n",
       "  'sea': 0.0,\n",
       "  'glacier': 0.0},\n",
       " {'buildings': 1.0,\n",
       "  'street': 2.81216417154552e-23,\n",
       "  'sea': 3.964930032103231e-28,\n",
       "  'mountain': 0.0,\n",
       "  'glacier': 0.0}]"
      ]
     },
     "execution_count": 52,
     "metadata": {},
     "output_type": "execute_result"
    }
   ],
   "source": [
    "out"
   ]
  },
  {
   "cell_type": "code",
   "execution_count": 59,
   "id": "2bd5dde1-348e-46de-b583-856db760d98e",
   "metadata": {
    "tags": []
   },
   "outputs": [
    {
     "data": {
      "image/png": "[encoded data removed]",
      "text/plain": [
       "<Figure size 432x288 with 10 Axes>"
      ]
     },
     "metadata": {
      "needs_background": "light"
     },
     "output_type": "display_data"
    }
   ],
   "source": [
    "# fig,ax = plt.subplots(5,2)\n",
    "\n",
    "for i in range(10):\n",
    "    with open(dataset_pred[i],'rb') as f:\n",
    "        image=Image.open(f)\n",
    "        # Adds a subplot at the 1st position\n",
    "        plt.subplot(5, 2, i+1)\n",
    "  \n",
    "        # showing image\n",
    "        plt.imshow(image)\n",
    "        plt.axis('off')\n",
    "        plt.title(classnames[i//2])\n",
    "\n",
    "plt.tight_layout()\n",
    "plt.suptitle(\"TRUE LABELS\")\n",
    "plt.show()"
   ]
  },
  {
   "cell_type": "code",
   "execution_count": 60,
   "id": "6a31c9df-5dc2-4352-bfc0-02ff24da6ea3",
   "metadata": {
    "tags": []
   },
   "outputs": [
    {
     "data": {
      "image/png": "[encoded data removed]",
      "text/plain": [
       "<Figure size 432x288 with 10 Axes>"
      ]
     },
     "metadata": {
      "needs_background": "light"
     },
     "output_type": "display_data"
    }
   ],
   "source": [
    "for i in range(10):\n",
    "    with open(dataset_pred[i],'rb') as f:\n",
    "        image=Image.open(f)\n",
    "        # Adds a subplot at the 1st position\n",
    "        plt.subplot(5, 2, i+1)\n",
    "  \n",
    "        # showing image\n",
    "        plt.imshow(image)\n",
    "        plt.axis('off')\n",
    "        plt.title(max(out[i], key=out[i].get))\n",
    "\n",
    "plt.tight_layout()\n",
    "plt.suptitle(\"PREDICTIONS\")\n",
    "plt.show()"
   ]
  },
  {
   "cell_type": "code",
   "execution_count": 54,
   "id": "38c26735-9662-418a-9769-a662dfc68b7f",
   "metadata": {
    "tags": []
   },
   "outputs": [],
   "source": [
    "# out_t = torch.tensor(out)"
   ]
  },
  {
   "cell_type": "code",
   "execution_count": null,
   "id": "bbc6545e-a1bb-4946-b077-b08a195b83e8",
   "metadata": {
    "tags": []
   },
   "outputs": [],
   "source": [
    "# out_t.shape"
   ]
  },
  {
   "cell_type": "code",
   "execution_count": null,
   "id": "a7308b86-725e-45c3-9490-cf69924a753f",
   "metadata": {
    "tags": []
   },
   "outputs": [],
   "source": [
    "# F.softmax(out_t, dim=-1)"
   ]
  },
  {
   "cell_type": "code",
   "execution_count": null,
   "id": "8c2a6f52-f14f-4550-84a3-f058ce6e09d5",
   "metadata": {
    "tags": []
   },
   "outputs": [],
   "source": [
    "# f\"Prediction: {classnames[torch.argmax(out_t, dim=-1)[0]]}\""
   ]
  },
  {
   "cell_type": "code",
   "execution_count": null,
   "id": "de4f2b41-0653-48a7-b745-d89e188e4533",
   "metadata": {},
   "outputs": [],
   "source": []
  },
  {
   "cell_type": "code",
   "execution_count": null,
   "id": "118a749c-04cd-439a-8d89-3a65f79f6089",
   "metadata": {},
   "outputs": [],
   "source": []
  },
  {
   "cell_type": "markdown",
   "id": "0a1bfc72-667a-46df-a0c3-4eadc119ed82",
   "metadata": {},
   "source": [
    "### Testing"
   ]
  },
  {
   "cell_type": "code",
   "execution_count": null,
   "id": "c35d0f2b-4ae4-49e9-85f9-d33558b5b4f8",
   "metadata": {
    "tags": []
   },
   "outputs": [],
   "source": [
    "! pip install --quiet timm pytorch-lightning"
   ]
  },
  {
   "cell_type": "code",
   "execution_count": null,
   "id": "8bdb5824-c5db-46b4-93e1-53343a120688",
   "metadata": {
    "tags": []
   },
   "outputs": [],
   "source": [
    "from typing import Any, Dict, Optional, Tuple\n",
    "\n",
    "import os\n",
    "import subprocess\n",
    "import torch\n",
    "import timm\n",
    "\n",
    "import pytorch_lightning as pl\n",
    "import torchvision.transforms as T\n",
    "import torch.nn.functional as F\n",
    "\n",
    "from pathlib import Path\n",
    "from torchvision.datasets import ImageFolder\n",
    "from pytorch_lightning.plugins.environments import LightningEnvironment\n",
    "from torch.utils.data import DataLoader, Dataset\n",
    "from torchmetrics.functional import accuracy"
   ]
  },
  {
   "cell_type": "code",
   "execution_count": null,
   "id": "73f68937-f11b-47d6-8725-74b565eeea17",
   "metadata": {
    "tags": []
   },
   "outputs": [],
   "source": [
    "class LitResnet(pl.LightningModule):\n",
    "    def __init__(self, num_classes=10, lr=0.05):\n",
    "        super().__init__()\n",
    "\n",
    "        self.num_classes = num_classes\n",
    "        self.save_hyperparameters()\n",
    "        self.model = timm.create_model('resnet18', pretrained=True)\n",
    "\n",
    "    def forward(self, x):\n",
    "        out = self.model(x)\n",
    "        return F.log_softmax(out, dim=1)\n",
    "\n",
    "    def training_step(self, batch, batch_idx):\n",
    "        x, y = batch\n",
    "        logits = self(x)\n",
    "        loss = F.nll_loss(logits, y)\n",
    "        self.log(\"train_loss\", loss)\n",
    "        return loss\n",
    "\n",
    "    def evaluate(self, batch, stage=None):\n",
    "        x, y = batch\n",
    "        logits = self(x)\n",
    "        loss = F.nll_loss(logits, y)\n",
    "        preds = torch.argmax(logits, dim=1)\n",
    "        acc = accuracy(preds, y, task=\"multiclass\", num_classes=self.num_classes)\n",
    "\n",
    "        if stage:\n",
    "            self.log(f\"{stage}/loss\", loss, prog_bar=True)\n",
    "            self.log(f\"{stage}/acc\", acc, prog_bar=True)\n",
    "\n",
    "    def validation_step(self, batch, batch_idx):\n",
    "        self.evaluate(batch, \"val\")\n",
    "\n",
    "    def test_step(self, batch, batch_idx):\n",
    "        self.evaluate(batch, \"test\")\n",
    "\n",
    "    def configure_optimizers(self):\n",
    "        optimizer = torch.optim.SGD(\n",
    "            self.parameters(),\n",
    "            lr=self.hparams.lr,\n",
    "            momentum=0.9,\n",
    "            weight_decay=5e-4,\n",
    "        )\n",
    "        return {\"optimizer\": optimizer}\n"
   ]
  },
  {
   "cell_type": "code",
   "execution_count": null,
   "id": "c5696953-8789-4c2d-8922-e9685e466f8c",
   "metadata": {
    "tags": []
   },
   "outputs": [],
   "source": [
    "class FlowerDataModule(pl.LightningDataModule):\n",
    "    def __init__(\n",
    "        self,\n",
    "        data_dir: str = \"data/\",\n",
    "        batch_size: int = 64,\n",
    "        num_workers: int = 0,\n",
    "        pin_memory: bool = False,\n",
    "    ):\n",
    "        super().__init__()\n",
    "\n",
    "        # this line allows to access init params with 'self.hparams' attribute\n",
    "        # also ensures init params will be stored in ckpt\n",
    "        self.save_hyperparameters(logger=False)\n",
    "        \n",
    "        self.data_dir = Path(data_dir)\n",
    "\n",
    "        # data transformations\n",
    "        self.transforms = T.Compose([\n",
    "            T.ToTensor(),\n",
    "            T.Resize((224, 224)),\n",
    "            T.Normalize(mean=[0.485, 0.456, 0.406], std=[0.229, 0.224, 0.225])\n",
    "        ])\n",
    "\n",
    "        self.data_train: Optional[Dataset] = None\n",
    "        self.data_test: Optional[Dataset] = None\n",
    "\n",
    "    @property\n",
    "    def num_classes(self):\n",
    "        return len(self.data_train.classes)\n",
    "    \n",
    "    @property\n",
    "    def classes(self):\n",
    "        return self.data_train.classes\n",
    "\n",
    "    def prepare_data(self):\n",
    "        \"\"\"Download data if needed.\n",
    "        Do not use it to assign state (self.x = y).\n",
    "        \"\"\"\n",
    "        pass\n",
    "\n",
    "    def setup(self, stage: Optional[str] = None):\n",
    "        \"\"\"Load data. Set variables: `self.data_train`, `self.data_val`, `self.data_test`.\n",
    "        This method is called by lightning with both `trainer.fit()` and `trainer.test()`, so be\n",
    "        careful not to execute things like random split twice!\n",
    "        \"\"\"\n",
    "        # load and split datasets only if not loaded already\n",
    "        if not self.data_train and not self.data_test:\n",
    "            trainset = ImageFolder(self.data_dir / \"train\", transform=self.transforms)\n",
    "            testset = ImageFolder(self.data_dir / \"test\", transform=self.transforms)\n",
    "            \n",
    "            self.data_train, self.data_test = trainset, testset\n",
    "\n",
    "    def train_dataloader(self):\n",
    "        return DataLoader(\n",
    "            dataset=self.data_train,\n",
    "            batch_size=self.hparams.batch_size,\n",
    "            num_workers=self.hparams.num_workers,\n",
    "            pin_memory=self.hparams.pin_memory,\n",
    "            shuffle=True,\n",
    "        )\n",
    "\n",
    "    def val_dataloader(self):\n",
    "        return DataLoader(\n",
    "            dataset=self.data_train,\n",
    "            batch_size=self.hparams.batch_size,\n",
    "            num_workers=self.hparams.num_workers,\n",
    "            pin_memory=self.hparams.pin_memory,\n",
    "            shuffle=False,\n",
    "        )\n",
    "\n",
    "    def test_dataloader(self):\n",
    "        return DataLoader(\n",
    "            dataset=self.data_test,\n",
    "            batch_size=self.hparams.batch_size,\n",
    "            num_workers=self.hparams.num_workers,\n",
    "            pin_memory=self.hparams.pin_memory,\n",
    "            shuffle=False,\n",
    "        )\n",
    "\n",
    "    def teardown(self, stage: Optional[str] = None):\n",
    "        \"\"\"Clean up after fit or test.\"\"\"\n",
    "        pass\n",
    "\n",
    "    def state_dict(self):\n",
    "        \"\"\"Extra things to save to checkpoint.\"\"\"\n",
    "        return {}\n",
    "\n",
    "    def load_state_dict(self, state_dict: Dict[str, Any]):\n",
    "        \"\"\"Things to do when loading checkpoint.\"\"\"\n",
    "        pass\n",
    "\n"
   ]
  },
  {
   "cell_type": "code",
   "execution_count": null,
   "id": "8928a4ca-6248-4547-943a-ae31e1f5faba",
   "metadata": {
    "tags": []
   },
   "outputs": [],
   "source": [
    "datamodule = FlowerDataModule(data_dir=(Path(\"/root/flower-project/example-git/\") / \"dataset\").absolute())\n",
    "datamodule.setup()"
   ]
  },
  {
   "cell_type": "code",
   "execution_count": null,
   "id": "c5dd8e2f-a468-431b-abfd-3778186104a0",
   "metadata": {
    "tags": []
   },
   "outputs": [],
   "source": [
    "datamodule.num_classes"
   ]
  },
  {
   "cell_type": "code",
   "execution_count": null,
   "id": "ac089e65-f5cb-48d0-9c47-0b6122590647",
   "metadata": {
    "tags": []
   },
   "outputs": [],
   "source": [
    "model = LitResnet(num_classes=datamodule.num_classes)"
   ]
  },
  {
   "cell_type": "code",
   "execution_count": null,
   "id": "48b5b40a-e841-4045-9f17-63427859acd8",
   "metadata": {
    "tags": []
   },
   "outputs": [],
   "source": [
    "trainer = pl.Trainer(\n",
    "    max_epochs=2,\n",
    "    accelerator=\"auto\",\n",
    ")"
   ]
  },
  {
   "cell_type": "code",
   "execution_count": null,
   "id": "a1e638ae-a114-4399-b268-4b48da4763d1",
   "metadata": {
    "tags": []
   },
   "outputs": [],
   "source": [
    "trainer.fit(model, datamodule)"
   ]
  },
  {
   "cell_type": "code",
   "execution_count": null,
   "id": "f3cd5724-bf5f-4114-9065-6a6631edab35",
   "metadata": {},
   "outputs": [],
   "source": []
  }
 ],
 "metadata": {
  "instance_type": "ml.t3.medium",
  "kernelspec": {
   "display_name": "Python 3 (PyTorch 1.12 Python 3.8 CPU Optimized)",
   "language": "python",
   "name": "python3__SAGEMAKER_INTERNAL__arn:aws:sagemaker:us-west-2:236514542706:image/pytorch-1.12-cpu-py38"
  },
  "language_info": {
   "codemirror_mode": {
    "name": "ipython",
    "version": 3
   },
   "file_extension": ".py",
   "mimetype": "text/x-python",
   "name": "python",
   "nbconvert_exporter": "python",
   "pygments_lexer": "ipython3",
   "version": "3.8.13"
  }
 },
 "nbformat": 4,
 "nbformat_minor": 5
}
