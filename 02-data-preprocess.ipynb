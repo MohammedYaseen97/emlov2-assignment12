{
 "cells": [
  {
   "cell_type": "code",
   "execution_count": 2,
   "id": "1545498a-2c83-4d69-b44a-df08fc17c2b1",
   "metadata": {
    "tags": []
   },
   "outputs": [
    {
     "name": "stdout",
     "output_type": "stream",
     "text": [
      "\u001b[33mWARNING: Running pip as the 'root' user can result in broken permissions and conflicting behaviour with the system package manager. It is recommended to use a virtual environment instead: https://pip.pypa.io/warnings/venv\u001b[0m\u001b[33m\n",
      "\u001b[0m\n",
      "\u001b[1m[\u001b[0m\u001b[34;49mnotice\u001b[0m\u001b[1;39;49m]\u001b[0m\u001b[39;49m A new release of pip available: \u001b[0m\u001b[31;49m22.2.2\u001b[0m\u001b[39;49m -> \u001b[0m\u001b[32;49m22.3.1\u001b[0m\n",
      "\u001b[1m[\u001b[0m\u001b[34;49mnotice\u001b[0m\u001b[1;39;49m]\u001b[0m\u001b[39;49m To update, run: \u001b[0m\u001b[32;49mpip install --upgrade pip\u001b[0m\n"
     ]
    }
   ],
   "source": [
    "! pip install --quiet git-remote-codecommit"
   ]
  },
  {
   "cell_type": "code",
   "execution_count": 3,
   "id": "c2b10f4c-0b06-4f84-8284-d0a470781a0c",
   "metadata": {
    "tags": []
   },
   "outputs": [
    {
     "name": "stdout",
     "output_type": "stream",
     "text": [
      "account: 523843493491\n",
      "bucket: sagemaker-us-west-2-523843493491\n",
      "region: us-west-2\n",
      "role: arn:aws:iam::523843493491:role/service-role/AmazonSageMaker-ExecutionRole-20220211T001925\n"
     ]
    }
   ],
   "source": [
    "import boto3\n",
    "import sagemaker\n",
    "import time\n",
    "from time import strftime\n",
    "\n",
    "boto_session = boto3.Session()\n",
    "sagemaker_session = sagemaker.Session(boto_session=boto_session)\n",
    "sm_client = boto3.client(\"sagemaker\")\n",
    "region = boto_session.region_name\n",
    "bucket = sagemaker_session.default_bucket()\n",
    "role = sagemaker.get_execution_role()\n",
    "account = sagemaker_session.boto_session.client(\"sts\").get_caller_identity()[\"Account\"]\n",
    "\n",
    "prefix = 'sagemaker-intel-dvc'\n",
    "\n",
    "print(f\"account: {account}\")\n",
    "print(f\"bucket: {bucket}\")\n",
    "print(f\"region: {region}\")\n",
    "print(f\"role: {role}\")"
   ]
  },
  {
   "cell_type": "code",
   "execution_count": 4,
   "id": "3aef066b-3eb8-4e9c-b8ca-e1fec9ef7201",
   "metadata": {
    "tags": []
   },
   "outputs": [],
   "source": [
    "from sagemaker.pytorch.processing import PyTorchProcessor\n",
    "from sagemaker.processing import ScriptProcessor, ProcessingInput, ProcessingOutput\n",
    "from sagemaker import get_execution_role"
   ]
  },
  {
   "cell_type": "code",
   "execution_count": 5,
   "id": "fd9d2589-c0e3-4d41-9ecf-7d95eb8f3925",
   "metadata": {
    "tags": []
   },
   "outputs": [],
   "source": [
    "dvc_repo_url = \"codecommit::us-west-2://sagemaker-intel\"\n",
    "dvc_branch = \"processed-dataset\""
   ]
  },
  {
   "cell_type": "code",
   "execution_count": 6,
   "id": "722e3204-ce72-40e3-9903-2a0f7415c676",
   "metadata": {
    "tags": []
   },
   "outputs": [],
   "source": [
    "# script_processor = ScriptProcessor(\n",
    "#     command=['python'],\n",
    "#     image_uri='523843493491.dkr.ecr.us-west-2.amazonaws.com/emlov2-private-repo-yaseen:aws-dlc',\n",
    "#     role=get_execution_role(),\n",
    "#     instance_type='ml.t3.medium',\n",
    "#     instance_count=1,\n",
    "#     base_job_name='preprocess-intel-dataset',\n",
    "#     env={\n",
    "#         \"DVC_REPO_URL\": dvc_repo_url,\n",
    "#         \"DVC_BRANCH\": dvc_branch,\n",
    "#         \"GIT_USER\": \"Mohammed Yaseen\",\n",
    "#         \"GIT_EMAIL\": \"47.yaseen@gmail.com\"\n",
    "#     }\n",
    "# )\n",
    "\n",
    "pytorch_processor = PyTorchProcessor(\n",
    "    framework_version='1.13',\n",
    "    image_uri='523843493491.dkr.ecr.us-west-2.amazonaws.com/emlov2-private-repo-yaseen:aws-dlc',\n",
    "    role=get_execution_role(),\n",
    "    instance_type='ml.t3.medium',\n",
    "    instance_count=1,\n",
    "    base_job_name='preprocess-intel-dataset',\n",
    "    env={\n",
    "        \"DVC_REPO_URL\": dvc_repo_url,\n",
    "        \"DVC_BRANCH\": dvc_branch,\n",
    "        \"GIT_USER\": \"Mohammed Yaseen\",\n",
    "        \"GIT_EMAIL\": \"47.yaseen@gmail.com\"\n",
    "    }\n",
    ")"
   ]
  },
  {
   "cell_type": "code",
   "execution_count": 7,
   "id": "49d3779c-5211-4f51-9670-22d2b6287125",
   "metadata": {
    "tags": []
   },
   "outputs": [],
   "source": [
    "input_dataset = \"s3://sagemaker-us-west-2-523843493491/intel-image-classification.zip\""
   ]
  },
  {
   "cell_type": "code",
   "execution_count": 8,
   "id": "96f0634c-96e4-45d8-a14e-1e25a7dbcf52",
   "metadata": {
    "tags": []
   },
   "outputs": [
    {
     "name": "stdout",
     "output_type": "stream",
     "text": [
      "\n",
      "Job Name:  preprocess-intel-dataset-2023-01-17-14-29-39-321\n",
      "Inputs:  [{'InputName': 'data', 'AppManaged': False, 'S3Input': {'S3Uri': 's3://sagemaker-us-west-2-523843493491/intel-image-classification.zip', 'LocalPath': '/opt/ml/processing/input', 'S3DataType': 'S3Prefix', 'S3InputMode': 'File', 'S3DataDistributionType': 'FullyReplicated', 'S3CompressionType': 'None'}}, {'InputName': 'code', 'AppManaged': False, 'S3Input': {'S3Uri': 's3://sagemaker-us-west-2-523843493491/preprocess-intel-dataset-2023-01-17-14-29-39-321/source/sourcedir.tar.gz', 'LocalPath': '/opt/ml/processing/input/code/', 'S3DataType': 'S3Prefix', 'S3InputMode': 'File', 'S3DataDistributionType': 'FullyReplicated', 'S3CompressionType': 'None'}}, {'InputName': 'entrypoint', 'AppManaged': False, 'S3Input': {'S3Uri': 's3://sagemaker-us-west-2-523843493491/preprocess-intel-dataset-2023-01-17-14-29-39-321/source/runproc.sh', 'LocalPath': '/opt/ml/processing/input/entrypoint', 'S3DataType': 'S3Prefix', 'S3InputMode': 'File', 'S3DataDistributionType': 'FullyReplicated', 'S3CompressionType': 'None'}}]\n",
      "Outputs:  []\n",
      "............................................................................................................................................\u001b[34m:: Configuring Git\u001b[0m\n",
      "\u001b[34m:: Cloning Git\u001b[0m\n",
      "\u001b[34m#011:: Cloning repo: codecommit::us-west-2://sagemaker-intel\u001b[0m\n",
      "\u001b[34m:: Generate Train Test Split\u001b[0m\n",
      "\u001b[34m:: Extracting Zip /opt/ml/processing/input/intel-image-classification.zip to /opt/ml/processing/tmp\u001b[0m\n",
      "\u001b[34m#011:: Train Dataset Class Counts:  Counter({'mountain': 2512, 'glacier': 2404, 'street': 2382, 'sea': 2274, 'forest': 2271, 'buildings': 2191})\u001b[0m\n",
      "\u001b[34m#011:: Test Dataset Class Counts:  Counter({'glacier': 553, 'mountain': 525, 'sea': 510, 'street': 501, 'forest': 474, 'buildings': 437})\u001b[0m\n",
      "\u001b[34m#011:: Creating Directory /opt/ml/processing/sagemaker-intel/dataset/train\u001b[0m\n",
      "\u001b[34m#011:: Creating Directory /opt/ml/processing/sagemaker-intel/dataset/test\u001b[0m\n",
      "\u001b[34m:: Writing Datasets\u001b[0m\n",
      "\u001b[34m:: Sync Processed Data to Git & DVC\u001b[0m\n",
      "\u001b[34m:: Create branch processed-dataset\u001b[0m\n",
      "\u001b[34m#011:: Create a new branch: processed-dataset\u001b[0m\n",
      "\u001b[34m:: Add files to DVC\u001b[0m\n",
      "\u001b[34mTo track the changes with git, run:\u001b[0m\n",
      "\u001b[34m#011git add .gitignore dataset.dvc\u001b[0m\n",
      "\u001b[34m#011:: Push data to DVC\u001b[0m\n",
      "\n",
      "\u001b[34mEverything is up to date.\u001b[0m\n",
      "\u001b[34m#011:: Push dvc metadata to git\u001b[0m\n",
      "\u001b[34m:: Commit Hash: 9915322bdef503068b5ef332506cf34cb32901f7\u001b[0m\n"
     ]
    }
   ],
   "source": [
    "# script_processor.run(\n",
    "#     code='../preprocess.py',\n",
    "#     inputs=[\n",
    "#         ProcessingInput(\n",
    "#             input_name='data',\n",
    "#             source=input_dataset,\n",
    "#             destination='/opt/ml/processing/input'\n",
    "#         )\n",
    "#     ],\n",
    "#     # outputs=[\n",
    "#     #     ProcessingOutput(output_name='data_structured', source='/opt/ml/processing/tmp/data_structured', destination=f's3://{BUCKET}/{S3_OUTPUT_PATH}'),\n",
    "#     #     ProcessingOutput(output_name='train', source='/opt/ml/processing/output/train', destination=f's3://{BUCKET}/{S3_OUTPUT_PATH}'),\n",
    "#     #     ProcessingOutput(output_name='validation', source='/opt/ml/processing/output/val', destination=f's3://{BUCKET}/{S3_OUTPUT_PATH}'),\n",
    "#     #     ProcessingOutput(output_name='test', source='/opt/ml/processing/output/test', destination=f's3://{BUCKET}/{S3_OUTPUT_PATH}'),\n",
    "#     #     ProcessingOutput(output_name='logs', source='/opt/ml/processing/logs', destination=f's3://{BUCKET}/{S3_OUTPUT_PATH}')\n",
    "#     # ]\n",
    "# )\n",
    "\n",
    "pytorch_processor.run(\n",
    "    code='preprocess.py',\n",
    "    source_dir='utils',\n",
    "    inputs=[\n",
    "        ProcessingInput(\n",
    "            input_name='data',\n",
    "            source=input_dataset,\n",
    "            destination='/opt/ml/processing/input'\n",
    "        )\n",
    "    ],\n",
    ")"
   ]
  },
  {
   "cell_type": "code",
   "execution_count": null,
   "id": "a53813c6-2c54-4d21-b09e-828a623898d7",
   "metadata": {},
   "outputs": [],
   "source": []
  },
  {
   "cell_type": "code",
   "execution_count": null,
   "id": "93850a0d-a8f5-447b-9430-2f90bb7c091f",
   "metadata": {},
   "outputs": [],
   "source": []
  },
  {
   "cell_type": "code",
   "execution_count": null,
   "id": "1707e299-9128-47fa-a08c-cb319a8606f4",
   "metadata": {},
   "outputs": [],
   "source": []
  },
  {
   "cell_type": "code",
   "execution_count": 9,
   "id": "e23fe4a3-b8e6-4619-8910-a9411a77e1f6",
   "metadata": {
    "tags": []
   },
   "outputs": [
    {
     "data": {
      "text/plain": [
       "'/root/emlov2-session-12'"
      ]
     },
     "execution_count": 9,
     "metadata": {},
     "output_type": "execute_result"
    }
   ],
   "source": [
    "%pwd"
   ]
  },
  {
   "cell_type": "code",
   "execution_count": 10,
   "id": "76d4998b-69cc-4afb-b846-59abcf819d54",
   "metadata": {
    "tags": []
   },
   "outputs": [
    {
     "name": "stdout",
     "output_type": "stream",
     "text": [
      "download: s3://sagemaker-us-west-2-523843493491/intel-image-classification.zip to ./intel-image-classification.zip\n"
     ]
    }
   ],
   "source": [
    "! aws s3 cp s3://sagemaker-us-west-2-523843493491/intel-image-classification.zip ."
   ]
  },
  {
   "cell_type": "code",
   "execution_count": 11,
   "id": "a7d86a95-68ed-4a6e-9b93-e0d995784570",
   "metadata": {
    "tags": []
   },
   "outputs": [
    {
     "name": "stderr",
     "output_type": "stream",
     "text": [
      "/opt/conda/lib/python3.8/site-packages/tqdm/auto.py:22: TqdmWarning: IProgress not found. Please update jupyter and ipywidgets. See https://ipywidgets.readthedocs.io/en/stable/user_install.html\n",
      "  from .autonotebook import tqdm as notebook_tqdm\n"
     ]
    }
   ],
   "source": [
    "from torchvision.datasets.utils import extract_archive\n",
    "\n",
    "from pathlib import Path"
   ]
  },
  {
   "cell_type": "code",
   "execution_count": 12,
   "id": "c6da1770-c4ca-4b07-8ce5-901e6d78e937",
   "metadata": {
    "tags": []
   },
   "outputs": [],
   "source": [
    "import torchvision.transforms as T\n",
    "from PIL import Image"
   ]
  },
  {
   "cell_type": "code",
   "execution_count": 13,
   "id": "c6f85c59-cd79-4b85-b8a0-658de6ee31a6",
   "metadata": {
    "tags": []
   },
   "outputs": [
    {
     "data": {
      "text/plain": [
       "'/root/emlov2-session-12'"
      ]
     },
     "execution_count": 13,
     "metadata": {},
     "output_type": "execute_result"
    }
   ],
   "source": [
    "%pwd"
   ]
  },
  {
   "cell_type": "code",
   "execution_count": 14,
   "id": "9ed7b66e-2df3-4c2c-9cbc-50d67eb2ecd3",
   "metadata": {
    "tags": []
   },
   "outputs": [],
   "source": [
    "dataset_zip = Path(\"/root/emlov2-session-12/intel-image-classification.zip\")\n",
    "dataset_extracted = Path(\"/root/emlov2-session-12/\")"
   ]
  },
  {
   "cell_type": "code",
   "execution_count": 15,
   "id": "c64429a5-b02e-4ba7-8be1-13a6c6ae5c53",
   "metadata": {
    "tags": []
   },
   "outputs": [
    {
     "data": {
      "text/plain": [
       "PosixPath('/root/emlov2-session-12')"
      ]
     },
     "execution_count": 15,
     "metadata": {},
     "output_type": "execute_result"
    }
   ],
   "source": [
    "extract_archive(\n",
    "    from_path=dataset_zip,\n",
    "    to_path=dataset_extracted\n",
    ")"
   ]
  },
  {
   "cell_type": "code",
   "execution_count": 16,
   "id": "e79e72ae-ceb7-4a33-8c35-bcf8a0936956",
   "metadata": {
    "tags": []
   },
   "outputs": [],
   "source": [
    "dataset_train = list((dataset_extracted / \"seg_train\" / \"seg_train\").glob(\"*/*.jpg\"))\n",
    "labels_train = [x.parent.stem for x in dataset_train]\n",
    "\n",
    "dataset_test = list((dataset_extracted / \"seg_test\" / \"seg_test\").glob(\"*/*.jpg\"))\n",
    "labels_test = [x.parent.stem for x in dataset_test]"
   ]
  },
  {
   "cell_type": "code",
   "execution_count": 17,
   "id": "739d104f-fa88-4e61-b378-e7ccddad773d",
   "metadata": {
    "tags": []
   },
   "outputs": [],
   "source": [
    "import numpy as np"
   ]
  },
  {
   "cell_type": "code",
   "execution_count": 18,
   "id": "cf9cac80-6768-40f1-94c4-2004d2597d56",
   "metadata": {
    "tags": []
   },
   "outputs": [],
   "source": [
    "from collections import Counter"
   ]
  },
  {
   "cell_type": "code",
   "execution_count": 19,
   "id": "f03143e1-38e8-4c60-8b83-f0394236c3a0",
   "metadata": {
    "tags": []
   },
   "outputs": [
    {
     "name": "stdout",
     "output_type": "stream",
     "text": [
      "Train counts:  Counter({'mountain': 2512, 'glacier': 2404, 'street': 2382, 'sea': 2274, 'forest': 2271, 'buildings': 2191})\n",
      "Test counts:  Counter({'glacier': 553, 'mountain': 525, 'sea': 510, 'street': 501, 'forest': 474, 'buildings': 437})\n"
     ]
    }
   ],
   "source": [
    "print(\"Train counts: \", Counter(labels_train))\n",
    "print(\"Test counts: \", Counter(labels_test))"
   ]
  },
  {
   "cell_type": "code",
   "execution_count": 20,
   "id": "80a87190-2e6a-4c15-962c-6686b49c12fa",
   "metadata": {
    "tags": []
   },
   "outputs": [],
   "source": [
    "# ! pip install --quiet scikit-learn"
   ]
  },
  {
   "cell_type": "code",
   "execution_count": 21,
   "id": "ffbef36a-b89b-44b9-b1f7-1a11de8a16b8",
   "metadata": {
    "tags": []
   },
   "outputs": [],
   "source": [
    "# from sklearn.model_selection import train_test_split"
   ]
  },
  {
   "cell_type": "code",
   "execution_count": 22,
   "id": "fa2e4004-bbb3-4c13-a492-f5ce44ded246",
   "metadata": {
    "tags": []
   },
   "outputs": [
    {
     "data": {
      "text/plain": [
       "(PosixPath('/root/emlov2-session-12/seg_train/seg_train/buildings/15920.jpg'),\n",
       " 'buildings')"
      ]
     },
     "execution_count": 22,
     "metadata": {},
     "output_type": "execute_result"
    }
   ],
   "source": [
    "dataset_train[0], labels_train[0]"
   ]
  },
  {
   "cell_type": "code",
   "execution_count": 23,
   "id": "7561d768-c058-4dbc-b219-65ce7844f054",
   "metadata": {
    "tags": []
   },
   "outputs": [
    {
     "data": {
      "text/plain": [
       "'15920.jpg'"
      ]
     },
     "execution_count": 23,
     "metadata": {},
     "output_type": "execute_result"
    }
   ],
   "source": [
    "dataset_train[0].name"
   ]
  },
  {
   "cell_type": "code",
   "execution_count": 24,
   "id": "5f2f9729-cec4-4f41-a2bc-15259640ed21",
   "metadata": {
    "tags": []
   },
   "outputs": [],
   "source": [
    "# d_train, d_test = train_test_split(dataset_full, stratify=labels)"
   ]
  },
  {
   "cell_type": "code",
   "execution_count": 25,
   "id": "46076d79-0a80-4e01-be35-f0144bd83b62",
   "metadata": {
    "tags": []
   },
   "outputs": [
    {
     "data": {
      "text/plain": [
       "Counter({'buildings': 2191,\n",
       "         'sea': 2274,\n",
       "         'forest': 2271,\n",
       "         'mountain': 2512,\n",
       "         'street': 2382,\n",
       "         'glacier': 2404})"
      ]
     },
     "execution_count": 25,
     "metadata": {},
     "output_type": "execute_result"
    }
   ],
   "source": [
    "Counter(x.parent.stem for x in dataset_train)"
   ]
  },
  {
   "cell_type": "code",
   "execution_count": 26,
   "id": "46d92cf8-0ae9-4c10-ae72-af130661c972",
   "metadata": {
    "tags": []
   },
   "outputs": [
    {
     "data": {
      "text/plain": [
       "Counter({'buildings': 437,\n",
       "         'sea': 510,\n",
       "         'forest': 474,\n",
       "         'mountain': 525,\n",
       "         'street': 501,\n",
       "         'glacier': 553})"
      ]
     },
     "execution_count": 26,
     "metadata": {},
     "output_type": "execute_result"
    }
   ],
   "source": [
    "Counter(x.parent.stem for x in dataset_test)"
   ]
  },
  {
   "cell_type": "code",
   "execution_count": 27,
   "id": "e15c46d5-2801-43a3-872c-daa57dd18cc9",
   "metadata": {
    "tags": []
   },
   "outputs": [],
   "source": [
    "git_path = Path(\"/root/emlov2-session-12/example-git\")\n",
    "for path in ['train', 'test']:\n",
    "        output_dir = git_path / \"dataset\" / path\n",
    "        output_dir.mkdir(parents=True, exist_ok=True)"
   ]
  },
  {
   "cell_type": "code",
   "execution_count": 28,
   "id": "27e549ca-db7b-491c-b0ec-47d94cc015ed",
   "metadata": {
    "tags": []
   },
   "outputs": [],
   "source": [
    "# import shutil"
   ]
  },
  {
   "cell_type": "code",
   "execution_count": 29,
   "id": "8a610b0d-911b-46bb-ab59-18ef0dd96b04",
   "metadata": {
    "tags": []
   },
   "outputs": [],
   "source": [
    "# def write_dataset(image_paths, output_dir):\n",
    "#     for img_path in image_paths:\n",
    "#         Path(output_dir / img_path.parent.stem).mkdir(parents=True, exist_ok=True)\n",
    "#         shutil.copyfile(img_path, output_dir / img_path.parent.stem / img_path.name)"
   ]
  },
  {
   "cell_type": "code",
   "execution_count": 30,
   "id": "5de8a39a-a81f-4b8c-846f-978bf2a9c181",
   "metadata": {
    "tags": []
   },
   "outputs": [],
   "source": [
    "def write_dataset(image_paths, output_dir):\n",
    "    transform = T.Resize(size=(224, 224))\n",
    "    for img_path in image_paths:\n",
    "        Path(output_dir / img_path.parent.stem).mkdir(parents=True, exist_ok=True)\n",
    "        im = Image.open(img_path)\n",
    "        im = transform(im)\n",
    "        # shutil.copyfile(img_path, output_dir / img_path.parent.stem / img_path.name)\n",
    "        im.save(output_dir / img_path.parent.stem / img_path.name)"
   ]
  },
  {
   "cell_type": "code",
   "execution_count": 31,
   "id": "b36eb9b7-3353-483c-9d37-cec9c854e2f5",
   "metadata": {
    "tags": []
   },
   "outputs": [],
   "source": [
    "write_dataset(dataset_train, git_path / \"dataset\" / \"train\")\n",
    "write_dataset(dataset_test, git_path / \"dataset\" / \"test\")"
   ]
  },
  {
   "cell_type": "code",
   "execution_count": 32,
   "id": "d8866178-deac-499e-9529-b32672f74637",
   "metadata": {
    "tags": []
   },
   "outputs": [],
   "source": [
    "from torchvision.datasets import ImageFolder"
   ]
  },
  {
   "cell_type": "code",
   "execution_count": 33,
   "id": "bbbd6053-fca8-44a9-b2ea-46bac168fe95",
   "metadata": {
    "tags": []
   },
   "outputs": [],
   "source": [
    "img_dset = ImageFolder(git_path / \"dataset\" / \"train\")"
   ]
  },
  {
   "cell_type": "code",
   "execution_count": 34,
   "id": "21dee1c7-d2b7-43d2-bb4e-52873cebd475",
   "metadata": {
    "tags": []
   },
   "outputs": [
    {
     "data": {
      "image/png": "[encoded data removed]",
      "text/plain": [
       "<PIL.Image.Image image mode=RGB size=224x224>"
      ]
     },
     "execution_count": 34,
     "metadata": {},
     "output_type": "execute_result"
    }
   ],
   "source": [
    "img_dset[0][0]"
   ]
  },
  {
   "cell_type": "code",
   "execution_count": 35,
   "id": "2e2c13b9-4e2a-4695-baf9-fee88903bae7",
   "metadata": {
    "tags": []
   },
   "outputs": [],
   "source": [
    "img_dset = ImageFolder(git_path / \"dataset\" / \"test\")"
   ]
  },
  {
   "cell_type": "code",
   "execution_count": 36,
   "id": "d343a2d9-def9-49c2-83b2-783c7fdcbe7b",
   "metadata": {
    "tags": []
   },
   "outputs": [
    {
     "data": {
      "text/plain": [
       "['buildings', 'forest', 'glacier', 'mountain', 'sea', 'street']"
      ]
     },
     "execution_count": 36,
     "metadata": {},
     "output_type": "execute_result"
    }
   ],
   "source": [
    "img_dset.classes"
   ]
  },
  {
   "cell_type": "code",
   "execution_count": null,
   "id": "14c53de5-7a34-4f85-8ce9-44c7788c5918",
   "metadata": {},
   "outputs": [],
   "source": []
  }
 ],
 "metadata": {
  "instance_type": "ml.t3.medium",
  "kernelspec": {
   "display_name": "Python 3 (PyTorch 1.12 Python 3.8 CPU Optimized)",
   "language": "python",
   "name": "python3__SAGEMAKER_INTERNAL__arn:aws:sagemaker:us-west-2:236514542706:image/pytorch-1.12-cpu-py38"
  },
  "language_info": {
   "codemirror_mode": {
    "name": "ipython",
    "version": 3
   },
   "file_extension": ".py",
   "mimetype": "text/x-python",
   "name": "python",
   "nbconvert_exporter": "python",
   "pygments_lexer": "ipython3",
   "version": "3.8.13"
  }
 },
 "nbformat": 4,
 "nbformat_minor": 5
}
